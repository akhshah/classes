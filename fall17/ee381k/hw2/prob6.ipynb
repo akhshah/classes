{
 "cells": [
  {
   "cell_type": "code",
   "execution_count": 13,
   "metadata": {
    "collapsed": true
   },
   "outputs": [],
   "source": [
    "from sklearn.datasets import fetch_20newsgroups\n",
    "from sklearn.feature_extraction.text import TfidfVectorizer\n",
    "from sklearn.decomposition import *\n",
    "\n",
    "vectorizer= TfidfVectorizer()\n",
    "news_train = fetch_20newsgroups(subset='train')\n",
    "W_train = vectorizer.fit_transform(news_train.data).T  \n",
    "\n",
    "model=NMF(n_components=10, init='random', random_state=0)\n",
    "Xtemp=model.fit_transform(W_train) \n",
    "H=model.components_\n",
    "\n",
    "news_test = fetch_20newsgroups(subset='test') \n",
    "W_test = vectorizer.transform(news_test.data).T  "
   ]
  },
  {
   "cell_type": "code",
   "execution_count": 15,
   "metadata": {},
   "outputs": [
    {
     "name": "stdout",
     "output_type": "stream",
     "text": [
      "(999, 1)\n",
      "(999, 10)\n"
     ]
    }
   ],
   "source": [
    "import numpy as np\n",
    "import numpy.linalg as la\n",
    "import numpy.random as rn\n",
    "import matplotlib.pyplot as plt\n",
    "\n",
    "y = W_test[1:1000,500]\n",
    "X = Xtemp[1:1000, :]\n",
    "print(y.shape)\n",
    "print(X.shape)"
   ]
  },
  {
   "cell_type": "code",
   "execution_count": 16,
   "metadata": {
    "collapsed": true
   },
   "outputs": [],
   "source": [
    "def proj(v, z=1):\n",
    "    n = v.shape[0]\n",
    "    # check if v is already in the simplex\n",
    "    if (np.sum(v) == z) and (v >= 0).all():\n",
    "        return v\n",
    "    \n",
    "    u = np.sort(v)[::-1]\n",
    "    \n",
    "    usum = 0\n",
    "    rho = 0\n",
    "    for j in range(n):\n",
    "        usum += u[j]\n",
    "        cond = u[j] - 1/(j+1)*(usum - z) > 0\n",
    "        \n",
    "        if cond:\n",
    "            rho = j\n",
    "    \n",
    "    theta = 1/(rho+1)*(np.sum(u[0:rho+1]) - z)\n",
    "    \n",
    "    w = (v - theta).clip(min=0)"
   ]
  },
  {
   "cell_type": "code",
   "execution_count": 23,
   "metadata": {
    "collapsed": true
   },
   "outputs": [],
   "source": [
    "def projsubgrad(beta, X, y, t):\n",
    "    eta = 1e-3/np.sqrt(t+1)\n",
    "\n",
    "    v = beta - eta*np.dot(X.T, np.sign(np.dot(X, beta)-y))\n",
    "\n",
    "    beta = proj(v)\n",
    "    \n",
    "    return beta"
   ]
  },
  {
   "cell_type": "code",
   "execution_count": 18,
   "metadata": {
    "collapsed": true
   },
   "outputs": [],
   "source": [
    "def mirror(beta, X, y, t):\n",
    "    eta = 1e-3/np.sqrt(t+1)\n",
    "    \n",
    "    beta_phi = np.zeros(beta.shape[0])\n",
    "    for i in range(beta.shape[0]):\n",
    "        if beta[i] == 0:\n",
    "            beta_phi[i] = 1\n",
    "        else:\n",
    "            beta_phi[i] = np.log(beta[i]) + 1\n",
    "\n",
    "    v_phi = beta_phi - eta*np.dot(X.T, np.sign(np.dot(X, beta)-y))\n",
    "    v = np.exp(v_phi - 1)\n",
    "    \n",
    "    beta = v/np.sum(np.abs(v))\n",
    "    return beta"
   ]
  },
  {
   "cell_type": "code",
   "execution_count": 19,
   "metadata": {
    "collapsed": true
   },
   "outputs": [],
   "source": [
    "def descent(update, X, y, T=int(1e2)):\n",
    "    beta = np.zeros(X.shape[1])\n",
    "    obj = []\n",
    "    for i in range(beta.shape[0]):\n",
    "        beta[i] = i\n",
    "    \n",
    "    beta = beta/np.sum(beta)\n",
    "    \n",
    "    for t in range(T):\n",
    "        beta = update(beta, X, y, t)\n",
    "        \n",
    "        if(t % 1 == 0) or (t == T - 1):\n",
    "            obj.append(la.norm(np.dot(X, beta) - y, 1))\n",
    "            \n",
    "            assert not np.isnan(obj[-1])\n",
    "            \n",
    "    return beta, obj"
   ]
  },
  {
   "cell_type": "code",
   "execution_count": null,
   "metadata": {},
   "outputs": [],
   "source": [
    "beta_sg, obj_sg = descent(projsubgrad, X, y)"
   ]
  },
  {
   "cell_type": "code",
   "execution_count": null,
   "metadata": {
    "collapsed": true
   },
   "outputs": [],
   "source": [
    "beta_md, obj_md = descent(mirror, X, y)"
   ]
  },
  {
   "cell_type": "markdown",
   "metadata": {},
   "source": [
    "When using all of the data, my computer freezes and after running for 15 minutes it required a hard reset on my machine. I'm fairly confident the code as the alogrithms are fairly straight forward, but I cannot, unfortunately, show results."
   ]
  },
  {
   "cell_type": "code",
   "execution_count": null,
   "metadata": {
    "collapsed": true
   },
   "outputs": [],
   "source": []
  }
 ],
 "metadata": {
  "kernelspec": {
   "display_name": "Python 3",
   "language": "python",
   "name": "python3"
  },
  "language_info": {
   "codemirror_mode": {
    "name": "ipython",
    "version": 3
   },
   "file_extension": ".py",
   "mimetype": "text/x-python",
   "name": "python",
   "nbconvert_exporter": "python",
   "pygments_lexer": "ipython3",
   "version": "3.6.3"
  }
 },
 "nbformat": 4,
 "nbformat_minor": 2
}
