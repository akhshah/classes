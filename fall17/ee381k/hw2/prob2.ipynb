{
 "cells": [
  {
   "cell_type": "code",
   "execution_count": 1,
   "metadata": {
    "collapsed": true
   },
   "outputs": [],
   "source": [
    "import numpy as np\n",
    "import numpy.linalg as la\n",
    "import numpy.random as rn\n",
    "import matplotlib.pyplot as plt"
   ]
  },
  {
   "cell_type": "markdown",
   "metadata": {},
   "source": [
    "## Subgradient Method"
   ]
  },
  {
   "cell_type": "code",
   "execution_count": 2,
   "metadata": {
    "collapsed": true
   },
   "outputs": [],
   "source": [
    "def subgradient(x, A, b, t, lam, c=1e-7):\n",
    "    eta = c/np.sqrt(t+1)\n",
    "    \n",
    "    # Find subgradient\n",
    "    grad = np.dot(np.transpose(A), np.matmul(A,x) - b) + lam*np.sign(x)\n",
    "    \n",
    "    # update\n",
    "    x = x - eta*grad\n",
    "    \n",
    "    return x"
   ]
  },
  {
   "cell_type": "markdown",
   "metadata": {},
   "source": [
    "## ISTA Method"
   ]
  },
  {
   "cell_type": "code",
   "execution_count": 3,
   "metadata": {
    "collapsed": true
   },
   "outputs": [],
   "source": [
    "def prox(x, eta, lam):\n",
    "    u = np.zeros(x.shape[0])\n",
    "    \n",
    "    for i in range(x.shape[0]):\n",
    "        u[i] = np.sign(x[i])*np.max(np.abs(x[i]) - eta*lam)\n",
    "    \n",
    "    return u\n",
    "\n",
    "def ista(x, A, b, t, lam):\n",
    "    eta = 1e-8\n",
    "    \n",
    "    grad = np.dot(np.transpose(A), np.matmul(A, x) - b)\n",
    "    y = x - eta*grad\n",
    "    \n",
    "    x = prox(y, eta, lam)\n",
    "    \n",
    "    return x"
   ]
  },
  {
   "cell_type": "markdown",
   "metadata": {},
   "source": [
    "## FISTA Method "
   ]
  },
  {
   "cell_type": "code",
   "execution_count": 18,
   "metadata": {
    "collapsed": true
   },
   "outputs": [],
   "source": [
    "def root(eta, gam, alfa):\n",
    "    a = 1\n",
    "    b = (eta**2)*(gam - a)\n",
    "    c = -eta**2*gam\n",
    "    \n",
    "    theta = (-b + np.sqrt(b**2 - 4*a*c))/2\n",
    "    return theta\n",
    "\n",
    "def fista(x, v, gam, A, b, t, lam):\n",
    "    eta = 1e-8\n",
    "    alfa = 10\n",
    "    \n",
    "    # find theta\n",
    "    theta = root(eta, gam, alfa)\n",
    "    \n",
    "    # update\n",
    "    y = x + (theta*gam)/(gam + alfa*theta)*(v - x)\n",
    "    \n",
    "    grad = np.dot(np.transpose(A), np.matmul(A, y) - b)\n",
    "    \n",
    "    xprev = x\n",
    "    x = prox(y - eta*grad, eta, lam)\n",
    "    v = x + 1/theta*(x - xprev)\n",
    "    \n",
    "    gam = theta**2/eta\n",
    "    \n",
    "    return x, v, gam"
   ]
  },
  {
   "cell_type": "markdown",
   "metadata": {},
   "source": [
    "##  Set up"
   ]
  },
  {
   "cell_type": "code",
   "execution_count": 5,
   "metadata": {
    "collapsed": true
   },
   "outputs": [],
   "source": [
    "def descent(update, A, b, reg, T=int(1e4)):\n",
    "    x = np.zeros(A.shape[1])\n",
    "    error = []\n",
    "    obj = []\n",
    "    \n",
    "    for t in range(T):\n",
    "        x = update(x, A, b, t, reg)\n",
    "        \n",
    "        # record error\n",
    "        if(t % 1 == 0) or (t == T - 1):\n",
    "            error.append(la.norm(np.dot(A, x) - b))\n",
    "            \n",
    "            assert not np.isnan(error[-1])\n",
    "    \n",
    "    return x, error"
   ]
  },
  {
   "cell_type": "code",
   "execution_count": 14,
   "metadata": {
    "collapsed": true
   },
   "outputs": [],
   "source": [
    "def descent2(update, A, b, reg, gam, T=int(1e4)):\n",
    "    x = np.zeros(A.shape[1])\n",
    "    v = x\n",
    "    error = []\n",
    "    \n",
    "    for t in range(T):\n",
    "        x, v, gam = update(x, v, gam, A, b, t, reg)\n",
    "        \n",
    "        # record error\n",
    "        if(t % 1 == 0) or (t == T - 1):\n",
    "            error.append(la.norm(np.dot(A, x) - b))\n",
    "            \n",
    "            assert not np.isnan(error[-1])\n",
    "    \n",
    "    return x, error"
   ]
  },
  {
   "cell_type": "markdown",
   "metadata": {},
   "source": [
    "## Run Cases"
   ]
  },
  {
   "cell_type": "code",
   "execution_count": 7,
   "metadata": {
    "collapsed": true
   },
   "outputs": [],
   "source": [
    "rn.seed([42])\n",
    "T = int(1e4)\n",
    "rows = 3000\n",
    "cols = 1500\n",
    "\n",
    "A = rn.rand(rows, cols)\n",
    "\n",
    "x_true = rn.rand(cols)\n",
    "\n",
    "b = np.matmul(A,x_true)"
   ]
  },
  {
   "cell_type": "code",
   "execution_count": 8,
   "metadata": {
    "collapsed": true
   },
   "outputs": [],
   "source": [
    "x_sg, error_sg = descent(subgradient, A, b, reg=1., T=T)"
   ]
  },
  {
   "cell_type": "code",
   "execution_count": 12,
   "metadata": {},
   "outputs": [],
   "source": [
    "x_is, error_is = descent(ista, A, b, reg=4., T=T)"
   ]
  },
  {
   "cell_type": "code",
   "execution_count": 20,
   "metadata": {},
   "outputs": [],
   "source": [
    "x_fs, error_fs = descent2(fista, A, b, reg=4., gam=0.5, T=T)"
   ]
  },
  {
   "cell_type": "code",
   "execution_count": 25,
   "metadata": {},
   "outputs": [
    {
     "data": {
      "text/plain": [
       "<matplotlib.legend.Legend at 0x10d2b50f0>"
      ]
     },
     "execution_count": 25,
     "metadata": {},
     "output_type": "execute_result"
    },
    {
     "data": {
      "image/png": "[encoded data removed]",
      "text/plain": [
       "<matplotlib.figure.Figure at 0x10d18b588>"
      ]
     },
     "metadata": {},
     "output_type": "display_data"
    }
   ],
   "source": [
    "%matplotlib inline\n",
    "plt.plot(error_sg, label=\"Subgradient\")\n",
    "plt.plot(error_is, label=\"ISTA\")\n",
    "plt.plot(error_fs, label=\"FISTA\")\n",
    "plt.title('Error')\n",
    "plt.legend()"
   ]
  },
  {
   "cell_type": "code",
   "execution_count": null,
   "metadata": {
    "collapsed": true
   },
   "outputs": [],
   "source": []
  }
 ],
 "metadata": {
  "kernelspec": {
   "display_name": "Python 3",
   "language": "python",
   "name": "python3"
  },
  "language_info": {
   "codemirror_mode": {
    "name": "ipython",
    "version": 3
   },
   "file_extension": ".py",
   "mimetype": "text/x-python",
   "name": "python",
   "nbconvert_exporter": "python",
   "pygments_lexer": "ipython3",
   "version": "3.6.2"
  }
 },
 "nbformat": 4,
 "nbformat_minor": 2
}
