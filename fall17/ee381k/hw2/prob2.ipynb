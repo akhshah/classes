{
 "cells": [
  {
   "cell_type": "code",
   "execution_count": 1,
   "metadata": {
    "collapsed": true
   },
   "outputs": [],
   "source": [
    "import numpy as np\n",
    "import numpy.linalg as la\n",
    "import numpy.random as rn\n",
    "import matplotlib.pyplot as plt"
   ]
  },
  {
   "cell_type": "markdown",
   "metadata": {},
   "source": [
    "## Subgradient Method"
   ]
  },
  {
   "cell_type": "code",
   "execution_count": 2,
   "metadata": {
    "collapsed": true
   },
   "outputs": [],
   "source": [
    "def subgradient(x, A, b, t, lam, c=1e-8):\n",
    "    eta = c/np.sqrt(t+1)\n",
    "    \n",
    "    # Find subgradient\n",
    "    grad = np.dot(np.transpose(A), np.matmul(A,x) - b) + lam*np.sign(x)\n",
    "    \n",
    "    # update\n",
    "    x = x - eta*grad\n",
    "    \n",
    "    return x"
   ]
  },
  {
   "cell_type": "markdown",
   "metadata": {},
   "source": [
    "## ISTA Method"
   ]
  },
  {
   "cell_type": "code",
   "execution_count": 3,
   "metadata": {
    "collapsed": true
   },
   "outputs": [],
   "source": [
    "def prox(x, eta, lam):\n",
    "    u = np.zeros(x.shape[0])\n",
    "    \n",
    "    for i in range(x.shape[0]):\n",
    "        u[i] = np.sign(x[i])*np.max(np.abs(x[i]) - eta*lam)\n",
    "    \n",
    "    return u\n",
    "\n",
    "def ista(x, A, b, t, lam):\n",
    "    eta = 1e-8\n",
    "    \n",
    "    grad = np.dot(np.transpose(A), np.matmul(A, x) - b)\n",
    "    y = x - eta*grad\n",
    "    \n",
    "    x = prox(y, eta, lam)\n",
    "    \n",
    "    return x"
   ]
  },
  {
   "cell_type": "markdown",
   "metadata": {},
   "source": [
    "## FISTA Method "
   ]
  },
  {
   "cell_type": "code",
   "execution_count": 4,
   "metadata": {
    "collapsed": true
   },
   "outputs": [],
   "source": [
    "#def root(eta, gam, alfa):\n",
    "#    a = 1\n",
    "#    b = (eta**2)*(gam - a)\n",
    "#    c = -eta**2*gam\n",
    "#    \n",
    "#    theta = (-b + np.sqrt(b**2 - 4*a*c))/2\n",
    "#    return theta\n",
    "\n",
    "def fista(x, v, theta, A, b, t, lam):\n",
    "    eta = 1e-8\n",
    "    #alfa = 4\n",
    "    \n",
    "    grad = np.dot(np.transpose(A), np.matmul(A, v) - b)\n",
    "    v = v - eta*grad\n",
    "    \n",
    "    # find theta\n",
    "    theta_old = theta\n",
    "    theta = (1 + np.sqrt(1 + 4*theta**2))/2\n",
    "    \n",
    "    # update\n",
    "    #y = x + (theta*gam)/(gam + alfa*theta)*(v - x)\n",
    "    \n",
    "    xprev = x\n",
    "    x = prox(v, eta, lam)\n",
    "    v = x + (theta_old - 1)/(theta)*(x - xprev)\n",
    "    \n",
    "    return x, v, theta"
   ]
  },
  {
   "cell_type": "markdown",
   "metadata": {},
   "source": [
    "##  Set up"
   ]
  },
  {
   "cell_type": "code",
   "execution_count": 5,
   "metadata": {
    "collapsed": true
   },
   "outputs": [],
   "source": [
    "def descent(update, A, b, reg, T=int(1e4)):\n",
    "    x = np.zeros(A.shape[1])\n",
    "    error = []\n",
    "    obj = []\n",
    "    \n",
    "    for t in range(T):\n",
    "        x = update(x, A, b, t, reg)\n",
    "        \n",
    "        # record error\n",
    "        if(t % 1 == 0) or (t == T - 1):\n",
    "            error.append(la.norm(np.dot(A, x) - b))\n",
    "            \n",
    "            assert not np.isnan(error[-1])\n",
    "    \n",
    "    return x, error"
   ]
  },
  {
   "cell_type": "code",
   "execution_count": 6,
   "metadata": {
    "collapsed": true
   },
   "outputs": [],
   "source": [
    "def descent2(update, A, b, reg, theta, T=int(1e4)):\n",
    "    x = np.zeros(A.shape[1])\n",
    "    v = x\n",
    "    error = []\n",
    "    \n",
    "    for t in range(T):\n",
    "        x, v, theta = update(x, v, theta, A, b, t, reg)\n",
    "        \n",
    "        # record error\n",
    "        if(t % 1 == 0) or (t == T - 1):\n",
    "            error.append(la.norm(np.dot(A, x) - b))\n",
    "            \n",
    "            assert not np.isnan(error[-1])\n",
    "    \n",
    "    return x, error"
   ]
  },
  {
   "cell_type": "markdown",
   "metadata": {},
   "source": [
    "## Run Cases"
   ]
  },
  {
   "cell_type": "code",
   "execution_count": 7,
   "metadata": {
    "collapsed": true
   },
   "outputs": [],
   "source": [
    "rn.seed([42])\n",
    "T = int(1e3)\n",
    "rows = 3000\n",
    "cols = 1500\n",
    "\n",
    "A = rn.rand(rows, cols)\n",
    "\n",
    "x_true = rn.rand(cols)\n",
    "\n",
    "b = np.matmul(A,x_true)"
   ]
  },
  {
   "cell_type": "code",
   "execution_count": 8,
   "metadata": {
    "collapsed": true
   },
   "outputs": [],
   "source": [
    "x_sg, error_sg = descent(subgradient, A, b, reg=1., T=T)"
   ]
  },
  {
   "cell_type": "code",
   "execution_count": 9,
   "metadata": {
    "collapsed": true
   },
   "outputs": [],
   "source": [
    "x_is, error_is = descent(ista, A, b, reg=1., T=T)"
   ]
  },
  {
   "cell_type": "code",
   "execution_count": 10,
   "metadata": {},
   "outputs": [],
   "source": [
    "x_fs, error_fs = descent2(fista, A, b, reg=1., theta=1., T=T)"
   ]
  },
  {
   "cell_type": "code",
   "execution_count": 11,
   "metadata": {},
   "outputs": [
    {
     "data": {
      "text/plain": [
       "<matplotlib.legend.Legend at 0x1062b3128>"
      ]
     },
     "execution_count": 11,
     "metadata": {},
     "output_type": "execute_result"
    },
    {
     "data": {
      "image/png": "[encoded data removed]",
      "text/plain": [
       "<matplotlib.figure.Figure at 0x103fbe2e8>"
      ]
     },
     "metadata": {},
     "output_type": "display_data"
    }
   ],
   "source": [
    "%matplotlib inline\n",
    "plt.plot(error_sg, label=\"Subgradient\")\n",
    "plt.plot(error_is, label=\"ISTA\")\n",
    "plt.plot(error_fs, label=\"FISTA\")\n",
    "plt.title('Error')\n",
    "plt.legend()"
   ]
  },
  {
   "cell_type": "code",
   "execution_count": null,
   "metadata": {
    "collapsed": true
   },
   "outputs": [],
   "source": []
  }
 ],
 "metadata": {
  "kernelspec": {
   "display_name": "Python 3",
   "language": "python",
   "name": "python3"
  },
  "language_info": {
   "codemirror_mode": {
    "name": "ipython",
    "version": 3
   },
   "file_extension": ".py",
   "mimetype": "text/x-python",
   "name": "python",
   "nbconvert_exporter": "python",
   "pygments_lexer": "ipython3",
   "version": "3.6.3"
  }
 },
 "nbformat": 4,
 "nbformat_minor": 2
}
