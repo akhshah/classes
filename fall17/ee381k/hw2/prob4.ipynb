{
 "cells": [
  {
   "cell_type": "code",
   "execution_count": 1,
   "metadata": {
    "collapsed": true
   },
   "outputs": [],
   "source": [
    "import numpy as np\n",
    "import numpy.linalg as la\n",
    "import numpy.random as rn\n",
    "import matplotlib.pyplot as plt"
   ]
  },
  {
   "cell_type": "code",
   "execution_count": 2,
   "metadata": {
    "collapsed": true
   },
   "outputs": [],
   "source": [
    "X_train = np.loadtxt(open(\"logistic_news/X_train.csv\", \"rb\"), delimiter=\",\")\n",
    "y_train = np.loadtxt(open(\"logistic_news/y_train.csv\", \"rb\"), delimiter=\",\")\n",
    "X_test = np.loadtxt(open(\"logistic_news/X_test.csv\", \"rb\"), delimiter=\",\")\n",
    "y_test = np.loadtxt(open(\"logistic_news/y_test.csv\", \"rb\"), delimiter=\",\")\n",
    "C = 20"
   ]
  },
  {
   "cell_type": "code",
   "execution_count": 3,
   "metadata": {
    "collapsed": true
   },
   "outputs": [],
   "source": [
    "def objective(X, y, beta, mu, C):\n",
    "    N = X.shape[0]\n",
    "    sizeX = X.shape[1]\n",
    "    #obj3 = mu*la.norm(beta)\n",
    "    \n",
    "    obj = 0\n",
    "    tempVec = np.zeros(C)\n",
    "    for i in range(X.shape[0]):\n",
    "        x = X[i,:]\n",
    "        obj1 = np.dot(beta[int(y[i]*X.shape[1]):int((y[i]*X.shape[1]+X.shape[1]))],x)\n",
    "        for j in range(C):\n",
    "            tempVec[j] = np.exp(-np.dot(beta[j*sizeX:(j*sizeX+sizeX)], x))\n",
    "        obj2 = np.log(np.sum(tempVec))\n",
    "        \n",
    "        obj += obj1 + obj2\n",
    "    \n",
    "    obj = 1/N*(obj) #+ obj3\n",
    "    return obj\n",
    "        "
   ]
  },
  {
   "cell_type": "code",
   "execution_count": 15,
   "metadata": {
    "collapsed": true
   },
   "outputs": [],
   "source": [
    "def grad(X, y, beta, mu, C):\n",
    "    sizeX = X.shape[1]\n",
    "    N = X.shape[0]\n",
    "    \n",
    "    tempVec2 = np.zeros(sizeX*C)\n",
    "    grad2 = np.zeros(sizeX*C)\n",
    "    for i in range(X.shape[0]):\n",
    "        tempVec = np.zeros(C)\n",
    "        tempVec2 = np.zeros(sizeX*C)\n",
    "        tempgrad = np.zeros(sizeX*C)\n",
    "        \n",
    "        x = X[i,:]\n",
    "        tempgrad[int(y[i]*sizeX):(int(y[i]*sizeX+sizeX))] = x\n",
    "        \n",
    "        for j in range(C):\n",
    "            tempVec[j] = np.exp(-np.dot(beta[int(j*sizeX):int((j*sizeX+sizeX))], x))\n",
    "            tempVec2[i*C+j] = -x[i]*tempVec[j]\n",
    "        grad1 = tempVec2/np.sum(tempVec)\n",
    "        \n",
    "        grad2 = grad1 + tempgrad + grad2\n",
    "\n",
    "    grad3 = mu*beta\n",
    "    \n",
    "    grad = 1/N*grad2 + grad3 \n",
    "    \n",
    "    return grad\n",
    "    "
   ]
  },
  {
   "cell_type": "code",
   "execution_count": 22,
   "metadata": {
    "collapsed": true
   },
   "outputs": [],
   "source": [
    "def gradient(X, y, beta, mu, C, t):\n",
    "    eta = 1e-3/np.sqrt(t+1)\n",
    "    beta = beta - eta*grad(X, y, beta, mu, C)\n",
    "    \n",
    "    return beta"
   ]
  },
  {
   "cell_type": "code",
   "execution_count": 23,
   "metadata": {
    "collapsed": true
   },
   "outputs": [],
   "source": [
    "def accelgradient(X, y, beta, mu, C, lam, v, t):\n",
    "    eta = 1e-3/np.sqrt(t+1)\n",
    "    \n",
    "    lamold = lam\n",
    "    lam = (1 + np.sqrt(1 + 4*lamold**2))/2\n",
    "    \n",
    "    gam = (1 - lamold)/lam\n",
    "    \n",
    "    vold = v\n",
    "    v = beta - eta*grad(X, y, beta, mu, C)\n",
    "    beta = (1 - gam)*v + gam*vold\n",
    "    \n",
    "    return beta, v, lam"
   ]
  },
  {
   "cell_type": "code",
   "execution_count": 7,
   "metadata": {
    "collapsed": true
   },
   "outputs": [],
   "source": [
    "def descent(update, X, y, C, X_test, y_test, mu, T=100):\n",
    "    beta = np.zeros(C*X.shape[1])\n",
    "    obj = []\n",
    "    obj_test = []\n",
    "    \n",
    "    for t in range(T):\n",
    "        beta = update(X, y, beta, mu, C, t)\n",
    "        \n",
    "        # record error\n",
    "        if(t % 1 == 0) or (t == T - 1):\n",
    "            obj.append(objective(X, y, beta, mu, C))\n",
    "            obj_test.append(objective(X_test, y_test, beta, mu, C))\n",
    "            \n",
    "            assert not np.isnan(obj[-1])\n",
    "    \n",
    "    return beta, obj, obj_test"
   ]
  },
  {
   "cell_type": "code",
   "execution_count": 8,
   "metadata": {
    "collapsed": true
   },
   "outputs": [],
   "source": [
    "def descent2(update, X, y, C, X_test, y_test, mu, T=100):\n",
    "    beta = np.zeros(C*X.shape[1])\n",
    "    v = beta\n",
    "    lam = 0\n",
    "    obj = []\n",
    "    obj_test = []\n",
    "    \n",
    "    for t in range(T):\n",
    "        beta, v, lam = update(X, y, beta, mu, C, lam, v, t)\n",
    "        \n",
    "        # record error\n",
    "        if(t % 1 == 0) or (t == T - 1):\n",
    "            obj.append(objective(X, y, beta, mu, C))\n",
    "            obj_test.append(objective(X_test, y_test, beta, mu, C))\n",
    "            \n",
    "            assert not np.isnan(obj[-1])\n",
    "    \n",
    "    return beta, obj, obj_test"
   ]
  },
  {
   "cell_type": "code",
   "execution_count": 9,
   "metadata": {
    "collapsed": true
   },
   "outputs": [],
   "source": [
    "X = X_train[1:200,:]\n",
    "y = y_train[1:200]\n",
    "X_test_sub = X_test[1:200,:]\n",
    "y_test_sub = y_test[1:200]"
   ]
  },
  {
   "cell_type": "markdown",
   "metadata": {},
   "source": [
    "### $\\mu = 0$"
   ]
  },
  {
   "cell_type": "code",
   "execution_count": 24,
   "metadata": {
    "collapsed": true
   },
   "outputs": [],
   "source": [
    "mu = 0\n",
    "beta_gd0, obj_gd0, objtest_gd0 = descent(gradient, X, y, C, X_test_sub, y_test_sub, mu)"
   ]
  },
  {
   "cell_type": "code",
   "execution_count": 25,
   "metadata": {
    "collapsed": true
   },
   "outputs": [],
   "source": [
    "beta_ad0, obj_ad0, objtest_ad0 = descent2(accelgradient, X, y, C, X_test_sub, y_test_sub, mu)"
   ]
  },
  {
   "cell_type": "markdown",
   "metadata": {},
   "source": [
    "### $\\mu = 0.1 $"
   ]
  },
  {
   "cell_type": "code",
   "execution_count": 26,
   "metadata": {
    "collapsed": true
   },
   "outputs": [],
   "source": [
    "mu = 0.1\n",
    "beta_gd1, obj_gd1, objtest_gd1 = descent(gradient, X, y, C, X_test_sub, y_test_sub, mu)"
   ]
  },
  {
   "cell_type": "code",
   "execution_count": 27,
   "metadata": {
    "collapsed": true
   },
   "outputs": [],
   "source": [
    "beta_ad1, obj_ad1, objtest_ad1 = descent2(accelgradient, X, y, C, X_test_sub, y_test_sub, mu)"
   ]
  },
  {
   "cell_type": "code",
   "execution_count": 28,
   "metadata": {},
   "outputs": [
    {
     "data": {
      "text/plain": [
       "<matplotlib.legend.Legend at 0x11637c128>"
      ]
     },
     "execution_count": 28,
     "metadata": {},
     "output_type": "execute_result"
    },
    {
     "data": {
      "image/png": "[encoded data removed]",
      "text/plain": [
       "<matplotlib.figure.Figure at 0x107937a20>"
      ]
     },
     "metadata": {},
     "output_type": "display_data"
    }
   ],
   "source": [
    "%matplotlib inline\n",
    "plt.plot(objtest_gd0, label=\"Gradient mu = 0\")\n",
    "plt.plot(objtest_ad0, label=\"Accelerated mu = 0\")\n",
    "plt.plot(objtest_gd1, label=\"Gradient mu = 0.1\")\n",
    "plt.plot(objtest_ad1, label=\"Accelerated mu = 0.1\")\n",
    "\n",
    "plt.title('Test Objective')\n",
    "plt.legend()"
   ]
  },
  {
   "cell_type": "code",
   "execution_count": 29,
   "metadata": {},
   "outputs": [
    {
     "data": {
      "text/plain": [
       "<matplotlib.legend.Legend at 0x1170cd438>"
      ]
     },
     "execution_count": 29,
     "metadata": {},
     "output_type": "execute_result"
    },
    {
     "data": {
      "image/png": "[encoded data removed]",
      "text/plain": [
       "<matplotlib.figure.Figure at 0x1166c12e8>"
      ]
     },
     "metadata": {},
     "output_type": "display_data"
    }
   ],
   "source": [
    "%matplotlib inline\n",
    "plt.plot(obj_gd0, label=\"Gradient mu = 0\")\n",
    "plt.plot(obj_ad0, label=\"Accelerated mu = 0\")\n",
    "plt.plot(obj_gd1, label=\"Gradient mu = 0.1\")\n",
    "plt.plot(obj_ad1, label=\"Accelerated mu = 0.1\")\n",
    "\n",
    "plt.title('Train Objective')\n",
    "plt.legend()"
   ]
  },
  {
   "cell_type": "markdown",
   "metadata": {},
   "source": [
    "For some reason, the $\\mu$ does not effect the loss function. Accelerated descent has a much steeper descent when compared to regular gradient descent. "
   ]
  },
  {
   "cell_type": "code",
   "execution_count": null,
   "metadata": {
    "collapsed": true
   },
   "outputs": [],
   "source": []
  }
 ],
 "metadata": {
  "kernelspec": {
   "display_name": "Python 3",
   "language": "python",
   "name": "python3"
  },
  "language_info": {
   "codemirror_mode": {
    "name": "ipython",
    "version": 3
   },
   "file_extension": ".py",
   "mimetype": "text/x-python",
   "name": "python",
   "nbconvert_exporter": "python",
   "pygments_lexer": "ipython3",
   "version": "3.6.3"
  }
 },
 "nbformat": 4,
 "nbformat_minor": 2
}
