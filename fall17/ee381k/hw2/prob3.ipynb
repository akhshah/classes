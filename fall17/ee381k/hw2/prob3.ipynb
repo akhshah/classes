{
 "cells": [
  {
   "cell_type": "code",
   "execution_count": 2,
   "metadata": {
    "collapsed": true
   },
   "outputs": [],
   "source": [
    "import numpy as np\n",
    "import numpy.linalg as la\n",
    "import numpy.random as rn\n",
    "import matplotlib.pyplot as plt"
   ]
  },
  {
   "cell_type": "code",
   "execution_count": 3,
   "metadata": {
    "collapsed": true
   },
   "outputs": [],
   "source": [
    "rn.seed([42])\n",
    "m = 3000\n",
    "n = 1500\n",
    "\n",
    "a = rn.randn(m, n)\n",
    "\n",
    "x_true = rn.randn(n)\n",
    "\n",
    "b = np.matmul(a, x_true)"
   ]
  },
  {
   "cell_type": "code",
   "execution_count": 4,
   "metadata": {
    "collapsed": true
   },
   "outputs": [],
   "source": [
    "def grad(a, x, b):    \n",
    "    tempVec = np.exp(np.matmul(a, x) + b)\n",
    "    tempVec2 = np.zeros(n)\n",
    "\n",
    "    for i in range(b.shape[0]):\n",
    "        tempVec2 = a[i,:]*tempVec[i] + tempVec2\n",
    "    \n",
    "    return tempVec2/np.sum(tempVec)"
   ]
  },
  {
   "cell_type": "markdown",
   "metadata": {},
   "source": [
    "## Gradient Descent"
   ]
  },
  {
   "cell_type": "code",
   "execution_count": 5,
   "metadata": {
    "collapsed": true
   },
   "outputs": [],
   "source": [
    "def gradient(x, a, b, t):\n",
    "    eta = 7e-3\n",
    "    x = x - eta*grad(a, x, b)\n",
    "    \n",
    "    return x"
   ]
  },
  {
   "cell_type": "markdown",
   "metadata": {},
   "source": [
    "## Accelerated Gradient Descent"
   ]
  },
  {
   "cell_type": "code",
   "execution_count": 13,
   "metadata": {
    "collapsed": true
   },
   "outputs": [],
   "source": [
    "def accelgrad(x, y, lam, a, b, t):\n",
    "    eta = 7e-3\n",
    "    lamold = lam\n",
    "    lam = (1 + np.sqrt(1 + 4*lamold**2))/2\n",
    "    \n",
    "    gam = (1 - lamold)/lam\n",
    "    yold = y\n",
    "    y = x - eta*grad(a, x, b)\n",
    "    x = (1-gam)*y + gam*yold\n",
    "    \n",
    "    return x, y, lam"
   ]
  },
  {
   "cell_type": "code",
   "execution_count": 24,
   "metadata": {
    "collapsed": true
   },
   "outputs": [],
   "source": [
    "def descent(update, A, b, T=100):\n",
    "    x = np.zeros(A.shape[1])\n",
    "    error = []\n",
    "    obj = []\n",
    "    \n",
    "    for t in range(T):\n",
    "        xold = x\n",
    "        x = update(x, A, b, t)\n",
    "        \n",
    "        # record error\n",
    "        if(t % 1 == 0) or (t == T - 1):\n",
    "            errortemp = 0\n",
    "            for i in range(A.shape[0]):\n",
    "                errortemp += np.exp(np.dot(A[i,:].T, x) + b[i])\n",
    "            error.append(np.log(errortemp))\n",
    "            \n",
    "            assert not np.isnan(error[-1])\n",
    "    \n",
    "    return x, error"
   ]
  },
  {
   "cell_type": "code",
   "execution_count": 25,
   "metadata": {
    "collapsed": true
   },
   "outputs": [],
   "source": [
    "def descent2(update, A, b, T=100):\n",
    "    x = np.zeros(A.shape[1])\n",
    "    y = x\n",
    "    lam = 0.\n",
    "    error = []\n",
    "    obj = []\n",
    "    \n",
    "    for t in range(T):\n",
    "        xold = x\n",
    "        x, y, lam = update(x, y, lam, A, b, t)\n",
    "        \n",
    "        # record error\n",
    "        if(t % 1 == 0) or (t == T - 1):\n",
    "            errortemp = 0\n",
    "            for i in range(A.shape[0]):\n",
    "                errortemp += np.exp(np.dot(A[i,:].T, x) + b[i])\n",
    "            error.append(np.log(errortemp))\n",
    "            assert not np.isnan(error[-1])\n",
    "    \n",
    "    return x, error"
   ]
  },
  {
   "cell_type": "code",
   "execution_count": 26,
   "metadata": {
    "collapsed": true
   },
   "outputs": [],
   "source": [
    "x_gd, error_gd = descent(gradient, a, b)"
   ]
  },
  {
   "cell_type": "code",
   "execution_count": 27,
   "metadata": {
    "collapsed": true
   },
   "outputs": [],
   "source": [
    "x_ag, error_ag = descent2(accelgrad, a, b)"
   ]
  },
  {
   "cell_type": "code",
   "execution_count": 29,
   "metadata": {},
   "outputs": [
    {
     "data": {
      "text/plain": [
       "<matplotlib.legend.Legend at 0x10da6aeb8>"
      ]
     },
     "execution_count": 29,
     "metadata": {},
     "output_type": "execute_result"
    },
    {
     "data": {
      "image/png": "[encoded data removed]",
      "text/plain": [
       "<matplotlib.figure.Figure at 0x10de52780>"
      ]
     },
     "metadata": {},
     "output_type": "display_data"
    }
   ],
   "source": [
    "%matplotlib inline\n",
    "plt.plot(error_gd, label=\"Gradient\")\n",
    "plt.plot(error_ag, label=\"Accelerated\")\n",
    "plt.title('Objective')\n",
    "plt.legend()"
   ]
  },
  {
   "cell_type": "code",
   "execution_count": null,
   "metadata": {
    "collapsed": true
   },
   "outputs": [],
   "source": []
  }
 ],
 "metadata": {
  "kernelspec": {
   "display_name": "Python 3",
   "language": "python",
   "name": "python3"
  },
  "language_info": {
   "codemirror_mode": {
    "name": "ipython",
    "version": 3
   },
   "file_extension": ".py",
   "mimetype": "text/x-python",
   "name": "python",
   "nbconvert_exporter": "python",
   "pygments_lexer": "ipython3",
   "version": "3.6.3"
  }
 },
 "nbformat": 4,
 "nbformat_minor": 2
}
