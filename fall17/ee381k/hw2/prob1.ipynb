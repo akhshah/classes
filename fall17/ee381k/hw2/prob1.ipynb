{
 "cells": [
  {
   "cell_type": "markdown",
   "metadata": {},
   "source": [
    "# Problem 1\n",
    "## Revisiting Lasso"
   ]
  },
  {
   "cell_type": "code",
   "execution_count": 1,
   "metadata": {
    "collapsed": true
   },
   "outputs": [],
   "source": [
    "# Imports\n",
    "import numpy as np\n",
    "import numpy.linalg as la\n",
    "import numpy.random as rn\n",
    "import matplotlib.pyplot as plt"
   ]
  },
  {
   "cell_type": "code",
   "execution_count": 2,
   "metadata": {
    "collapsed": true
   },
   "outputs": [],
   "source": [
    "# Frank-Wolfe Algorithm\n",
    "def frank_wolfe(x, A, b, t, gam):\n",
    "    eta = 2/(t+2)\n",
    "\n",
    "    # Find s_t\n",
    "    st = np.zeros(x.shape[0])\n",
    "    grad = np.dot(np.transpose(A), np.matmul(A, x) - b)\n",
    "    i = np.argmax(np.abs(grad))\n",
    "    st[i] = -gam*np.sign(grad[i])\n",
    "\n",
    "    x = x + eta*(st - x)\n",
    "    \n",
    "    return x"
   ]
  },
  {
   "cell_type": "code",
   "execution_count": 8,
   "metadata": {
    "collapsed": true
   },
   "outputs": [],
   "source": [
    "def subgradient(x, A, b, t, lam, c=1e-3):\n",
    "    eta = c/np.sqrt(t+1)\n",
    "    \n",
    "    # Find subgradient\n",
    "    grad = np.dot(np.transpose(A), np.matmul(A,x) - b) + lam*np.sign(x)\n",
    "    \n",
    "    # update\n",
    "    x = x - eta*grad\n",
    "    \n",
    "    return x"
   ]
  },
  {
   "cell_type": "markdown",
   "metadata": {},
   "source": [
    "#### Proximal Oracle\n",
    "The prox operator is defined as:\n",
    "\n",
    "$$\\text{Prox}_{\\eta h}(x) = {\\text{arg}\\min_u} \\{ \\lambda ||u||_1 + \\frac{1}{2\\eta}||u  - x||^2_2\\}$$\n",
    "\n",
    "For the $\\ell_1$-norm this becomes:\n",
    "$$\\text{Prox}_{\\eta h}(x) = \\text{sign}(x)\\max\\{|x| - \\eta\\lambda, 0\\}$$"
   ]
  },
  {
   "cell_type": "code",
   "execution_count": 4,
   "metadata": {
    "collapsed": true
   },
   "outputs": [],
   "source": [
    "def prox(x, eta, lam):\n",
    "    u = np.zeros(x.shape[0])\n",
    "    \n",
    "    for i in range(x.shape[0]):\n",
    "        u[i] = np.sign(x[i])*np.max(np.abs(x[i]) - eta*lam)\n",
    "    \n",
    "    return u\n",
    "\n",
    "def proxgrad(x, A, b, t, lam):\n",
    "    eta = 1e-3\n",
    "    \n",
    "    grad = np.dot(np.transpose(A), np.matmul(A, x) - b)\n",
    "    y = x - eta*grad\n",
    "    \n",
    "    x = prox(y, eta, lam)\n",
    "    \n",
    "    return x"
   ]
  },
  {
   "cell_type": "code",
   "execution_count": 5,
   "metadata": {},
   "outputs": [],
   "source": [
    "def descent(update, A_train, b_train, A_test, b_test, reg, T=int(1e4)):\n",
    "    x = np.zeros(A_train.shape[1])\n",
    "    error_train = []\n",
    "    error_test = []\n",
    "    \n",
    "    for t in range(T):\n",
    "        x = update(x, A_train, b_train, t, reg)\n",
    "        \n",
    "        # record training and testing error\n",
    "        if(t % 1 == 0) or (t == T - 1):\n",
    "            error_train.append(la.norm(np.dot(A_train, x) - b_train))\n",
    "            error_test.append(la.norm(np.dot(A_test, x) - b_test))\n",
    "            \n",
    "            assert not np.isnan(error_train[-1])\n",
    "    \n",
    "    return x, error_train, error_test"
   ]
  },
  {
   "cell_type": "code",
   "execution_count": 6,
   "metadata": {},
   "outputs": [
    {
     "data": {
      "text/plain": [
       "<matplotlib.legend.Legend at 0x103ed6d30>"
      ]
     },
     "execution_count": 6,
     "metadata": {},
     "output_type": "execute_result"
    },
    {
     "data": {
      "image/png": "[encoded data removed]",
      "text/plain": [
       "<matplotlib.figure.Figure at 0x103cd8550>"
      ]
     },
     "metadata": {},
     "output_type": "display_data"
    }
   ],
   "source": [
    "T = int(1e4)\n",
    "A_train = np.load(\"A_train.npy\")\n",
    "b_train = np.load(\"b_train.npy\")\n",
    "\n",
    "A_test = np.load(\"A_test.npy\")\n",
    "b_test = np.load(\"b_test.npy\")\n",
    "\n",
    "x_sg, train_sg, test_sg = descent(subgradient, A_train, b_train, A_test, b_test, reg=1., T=T)\n",
    "x_fw, train_fw, test_fw = descent(frank_wolfe, A_train, b_train, A_test, b_test, reg=4., T=T)\n",
    "x_pg, train_pg, test_pg = descent(proxgrad, A_train, b_train, A_test, b_test, reg=3., T=T)\n",
    "\n",
    "%matplotlib inline\n",
    "plt.plot(train_sg, label=\"Subgradient\")\n",
    "plt.plot(train_fw, label=\"Frank-Wolfe\")\n",
    "plt.plot(train_pg, label=\"Proximal Gradient\")\n",
    "plt.title('Training Error')\n",
    "plt.legend()\n",
    "\n"
   ]
  },
  {
   "cell_type": "code",
   "execution_count": 7,
   "metadata": {},
   "outputs": [
    {
     "data": {
      "text/plain": [
       "<matplotlib.legend.Legend at 0x103fde390>"
      ]
     },
     "execution_count": 7,
     "metadata": {},
     "output_type": "execute_result"
    },
    {
     "data": {
      "image/png": "[encoded data removed]",
      "text/plain": [
       "<matplotlib.figure.Figure at 0x103bdcf60>"
      ]
     },
     "metadata": {},
     "output_type": "display_data"
    }
   ],
   "source": [
    "%matplotlib inline\n",
    "plt.plot(test_sg, label=\"Subgradient\")\n",
    "plt.plot(test_fw, label=\"Frank-Wolfe\")\n",
    "plt.plot(test_pg, label=\"Proximal Gradient\")\n",
    "plt.title('Testing Error')\n",
    "plt.legend()"
   ]
  },
  {
   "cell_type": "code",
   "execution_count": null,
   "metadata": {
    "collapsed": true
   },
   "outputs": [],
   "source": []
  }
 ],
 "metadata": {
  "kernelspec": {
   "display_name": "Python 3",
   "language": "python",
   "name": "python3"
  },
  "language_info": {
   "codemirror_mode": {
    "name": "ipython",
    "version": 3
   },
   "file_extension": ".py",
   "mimetype": "text/x-python",
   "name": "python",
   "nbconvert_exporter": "python",
   "pygments_lexer": "ipython3",
   "version": "3.6.2"
  }
 },
 "nbformat": 4,
 "nbformat_minor": 2
}
