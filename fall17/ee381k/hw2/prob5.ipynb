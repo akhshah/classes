{
 "cells": [
  {
   "cell_type": "code",
   "execution_count": 8,
   "metadata": {
    "collapsed": true
   },
   "outputs": [],
   "source": [
    "import numpy as np\n",
    "import numpy.linalg as la\n",
    "import numpy.random as rn\n",
    "import matplotlib.pyplot as plt"
   ]
  },
  {
   "cell_type": "markdown",
   "metadata": {},
   "source": [
    "## FISTA Method "
   ]
  },
  {
   "cell_type": "code",
   "execution_count": 9,
   "metadata": {
    "collapsed": true
   },
   "outputs": [],
   "source": [
    "def prox(x, eta, lam):\n",
    "    u = np.zeros(x.shape[0])\n",
    "    \n",
    "    for i in range(x.shape[0]):\n",
    "        u[i] = np.sign(x[i])*np.max(np.abs(x[i]) - eta*lam)\n",
    "    \n",
    "    return u\n",
    "\n",
    "def fista(x, v, theta, A, b, t, lam):\n",
    "    eta = 1e-8\n",
    "    #alfa = 4\n",
    "    \n",
    "    grad = np.dot(np.transpose(A), np.matmul(A, v) - b)\n",
    "    v = v - eta*grad\n",
    "    \n",
    "    # find theta\n",
    "    theta_old = theta\n",
    "    theta = (1 + np.sqrt(1 + 4*theta**2))/2\n",
    "    \n",
    "    # update\n",
    "    #y = x + (theta*gam)/(gam + alfa*theta)*(v - x)\n",
    "    \n",
    "    xprev = x\n",
    "    x = prox(v, eta, lam)\n",
    "    v = x + (theta_old - 1)/(theta)*(x - xprev)\n",
    "    \n",
    "    return x, v, theta"
   ]
  },
  {
   "cell_type": "code",
   "execution_count": 18,
   "metadata": {
    "collapsed": true
   },
   "outputs": [],
   "source": [
    "def fista2(x, v, theta, A, b, t, lam):\n",
    "    eta = 1e-8\n",
    "    #alfa = 4\n",
    "    \n",
    "    grad = np.dot(np.transpose(A), np.matmul(A, v) - b)\n",
    "    v = v - eta*grad\n",
    "    \n",
    "    # find theta\n",
    "    theta_old = theta\n",
    "    theta = (1 + np.sqrt(1 + 4*theta**2))/2\n",
    "    \n",
    "    # update\n",
    "    #y = x + (theta*gam)/(gam + alfa*theta)*(v - x)\n",
    "    \n",
    "    xprev = x\n",
    "    xtest = prox(v, eta, lam)\n",
    "    \n",
    "    if obj(A, xprev, b) >= obj(A, xtest, b):\n",
    "        x = xtest\n",
    "    else:\n",
    "        x = xprev\n",
    "    \n",
    "    v = x + (theta_old - 1)/(theta)*(x - xprev)\n",
    "    \n",
    "    return x, v, theta"
   ]
  },
  {
   "cell_type": "code",
   "execution_count": 16,
   "metadata": {
    "collapsed": true
   },
   "outputs": [],
   "source": [
    "def obj(A, x, b):\n",
    "    f = 0.5*la.norm(np.matmul(A,x) - b)**2 + la.norm(x, 1)\n",
    "    \n",
    "    return f"
   ]
  },
  {
   "cell_type": "markdown",
   "metadata": {},
   "source": [
    "##  Set up"
   ]
  },
  {
   "cell_type": "code",
   "execution_count": 12,
   "metadata": {
    "collapsed": true
   },
   "outputs": [],
   "source": [
    "def descent2(update, A, b, reg, theta, T=int(1e4)):\n",
    "    x = np.zeros(A.shape[1])\n",
    "    v = x\n",
    "    error = []\n",
    "    \n",
    "    for t in range(T):\n",
    "        x, v, theta = update(x, v, theta, A, b, t, reg)\n",
    "        \n",
    "        # record error\n",
    "        if(t % 1 == 0) or (t == T - 1):\n",
    "            error.append(la.norm(np.dot(A, x) - b))\n",
    "            \n",
    "            assert not np.isnan(error[-1])\n",
    "    \n",
    "    return x, error"
   ]
  },
  {
   "cell_type": "markdown",
   "metadata": {},
   "source": [
    "## Run Cases"
   ]
  },
  {
   "cell_type": "code",
   "execution_count": 13,
   "metadata": {
    "collapsed": true
   },
   "outputs": [],
   "source": [
    "rn.seed([42])\n",
    "T = int(1e3)\n",
    "rows = 3000\n",
    "cols = 1500\n",
    "\n",
    "A = rn.rand(rows, cols)\n",
    "\n",
    "x_true = rn.rand(cols)\n",
    "\n",
    "b = np.matmul(A,x_true)"
   ]
  },
  {
   "cell_type": "code",
   "execution_count": 14,
   "metadata": {},
   "outputs": [],
   "source": [
    "x_fs, error_fs = descent2(fista, A, b, reg=1., theta=1., T=T)"
   ]
  },
  {
   "cell_type": "code",
   "execution_count": 19,
   "metadata": {},
   "outputs": [],
   "source": [
    "x_ng, error_ng = descent2(fista2, A, b, reg=1., theta=1., T=T)"
   ]
  },
  {
   "cell_type": "code",
   "execution_count": 20,
   "metadata": {},
   "outputs": [
    {
     "data": {
      "text/plain": [
       "<matplotlib.legend.Legend at 0x10fbcea90>"
      ]
     },
     "execution_count": 20,
     "metadata": {},
     "output_type": "execute_result"
    },
    {
     "data": {
      "image/png": "[encoded data removed]",
      "text/plain": [
       "<matplotlib.figure.Figure at 0x10d84ea58>"
      ]
     },
     "metadata": {},
     "output_type": "display_data"
    }
   ],
   "source": [
    "%matplotlib inline\n",
    "plt.plot(error_fs, label=\"FISTA\")\n",
    "plt.plot(error_ng, label=\"FISTA Descent\")\n",
    "plt.title('Error')\n",
    "plt.legend()"
   ]
  },
  {
   "cell_type": "code",
   "execution_count": null,
   "metadata": {
    "collapsed": true
   },
   "outputs": [],
   "source": []
  }
 ],
 "metadata": {
  "kernelspec": {
   "display_name": "Python 3",
   "language": "python",
   "name": "python3"
  },
  "language_info": {
   "codemirror_mode": {
    "name": "ipython",
    "version": 3
   },
   "file_extension": ".py",
   "mimetype": "text/x-python",
   "name": "python",
   "nbconvert_exporter": "python",
   "pygments_lexer": "ipython3",
   "version": "3.6.3"
  }
 },
 "nbformat": 4,
 "nbformat_minor": 2
}
