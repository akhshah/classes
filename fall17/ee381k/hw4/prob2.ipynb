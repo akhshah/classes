{
 "cells": [
  {
   "cell_type": "code",
   "execution_count": 1,
   "metadata": {
    "collapsed": true
   },
   "outputs": [],
   "source": [
    "import numpy as np\n",
    "import numpy.linalg as la\n",
    "import numpy.random as rn\n",
    "import matplotlib.pyplot as plt"
   ]
  },
  {
   "cell_type": "code",
   "execution_count": 3,
   "metadata": {
    "collapsed": true
   },
   "outputs": [],
   "source": [
    "M1 = np.loadtxt(open(\"ConjugateGradient/M1.csv\", \"rb\"), delimiter=\",\")\n",
    "M2 = np.loadtxt(open(\"ConjugateGradient/M2.csv\", \"rb\"), delimiter=\",\")\n",
    "\n",
    "b1 = np.loadtxt(open(\"ConjugateGradient/b1.csv\", \"rb\"), delimiter=\",\")\n",
    "b2 = np.loadtxt(open(\"ConjugateGradient/b2.csv\", \"rb\"), delimiter=\",\")\n",
    "\n",
    "xstar = np.loadtxt(open(\"ConjugateGradient/x.csv\", \"rb\"), delimiter=\",\")"
   ]
  },
  {
   "cell_type": "code",
   "execution_count": 4,
   "metadata": {
    "collapsed": true
   },
   "outputs": [],
   "source": [
    "M = np.vstack((M1,M2))\n",
    "b = np.concatenate((b1, b2))\n",
    "T = 200"
   ]
  },
  {
   "cell_type": "code",
   "execution_count": 5,
   "metadata": {
    "collapsed": true
   },
   "outputs": [],
   "source": [
    "def error(M, x, xstar):\n",
    "    \n",
    "    err_ = np.dot(x - xstar, np.dot(M, x - xstar))\n",
    "    \n",
    "    err = la.norm(err_)**2\n",
    "    return err"
   ]
  },
  {
   "cell_type": "code",
   "execution_count": null,
   "metadata": {
    "collapsed": true
   },
   "outputs": [],
   "source": [
    "x = np.zeros(xstar.shape)\n",
    "\n",
    "M1_error = []\n",
    "M2_error = []\n",
    "\n",
    "#M1_error.append(error(M1, x, xstar))\n",
    "#M2_error.append(error(M2, x, xstar))\n",
    "\n",
    "A = np.dot(M.T, M)\n",
    "d = np.dot(M.T, b)\n",
    "tol = 1e-3\n",
    "B = np.eye(A.shape[0])\n",
    "\n",
    "pk = 1\n",
    "\n",
    "while la.norm(pk)**2 > tol:\n",
    "    grad = np.dot(A,x) - d\n",
    "    pk = -B*grad\n",
    "    ak = np.dot(pk, np.dot(A, x) - d)/np.dot(pk, np.dot(A, pk))\n",
    "    \n",
    "    sk = ak*pk\n",
    "    x = x + sk\n",
    "    y = np.dot(A,x) - d - grad\n",
    "    den = np.dot(sk, y)\n",
    "    \n",
    "    B = B + (den + np.dot(y, np.dot(B, y)))/den**2*np.outer(sk, sk) - (np.dot(B, np.outer(yk, sk)) + np.dot(np.outer(yk, sk), B))/den\n"
   ]
  },
  {
   "cell_type": "code",
   "execution_count": null,
   "metadata": {
    "collapsed": true
   },
   "outputs": [],
   "source": []
  }
 ],
 "metadata": {
  "kernelspec": {
   "display_name": "Python 3",
   "language": "python",
   "name": "python3"
  },
  "language_info": {
   "codemirror_mode": {
    "name": "ipython",
    "version": 3
   },
   "file_extension": ".py",
   "mimetype": "text/x-python",
   "name": "python",
   "nbconvert_exporter": "python",
   "pygments_lexer": "ipython3",
   "version": "3.6.3"
  }
 },
 "nbformat": 4,
 "nbformat_minor": 2
}
