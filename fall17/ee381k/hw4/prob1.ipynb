{
 "cells": [
  {
   "cell_type": "code",
   "execution_count": 1,
   "metadata": {
    "collapsed": true
   },
   "outputs": [],
   "source": [
    "import numpy as np\n",
    "import numpy.linalg as la\n",
    "import numpy.random as rn\n",
    "import matplotlib.pyplot as plt"
   ]
  },
  {
   "cell_type": "code",
   "execution_count": 2,
   "metadata": {
    "collapsed": true
   },
   "outputs": [],
   "source": [
    "M1 = np.loadtxt(open(\"ConjugateGradient/M1.csv\", \"rb\"), delimiter=\",\")\n",
    "M2 = np.loadtxt(open(\"ConjugateGradient/M2.csv\", \"rb\"), delimiter=\",\")\n",
    "\n",
    "b1 = np.loadtxt(open(\"ConjugateGradient/b1.csv\", \"rb\"), delimiter=\",\")\n",
    "b2 = np.loadtxt(open(\"ConjugateGradient/b2.csv\", \"rb\"), delimiter=\",\")\n",
    "\n",
    "xstar = np.loadtxt(open(\"ConjugateGradient/x.csv\", \"rb\"), delimiter=\",\")"
   ]
  },
  {
   "cell_type": "code",
   "execution_count": 3,
   "metadata": {
    "collapsed": true
   },
   "outputs": [],
   "source": [
    "M = np.vstack((M1,M2))\n",
    "b = np.concatenate((b1, b2))\n",
    "T = 200"
   ]
  },
  {
   "cell_type": "code",
   "execution_count": 4,
   "metadata": {
    "collapsed": true
   },
   "outputs": [],
   "source": [
    "def error(M, x, xstar):\n",
    "    \n",
    "    err_ = np.dot(x - xstar, np.dot(M, x - xstar))\n",
    "    \n",
    "    err = la.norm(err_)**2\n",
    "    return err"
   ]
  },
  {
   "cell_type": "code",
   "execution_count": 9,
   "metadata": {
    "collapsed": true
   },
   "outputs": [],
   "source": [
    "x = np.zeros(xstar.shape)\n",
    "\n",
    "M1_error = []\n",
    "M2_error = []\n",
    "\n",
    "#M1_error.append(error(M1, x, xstar))\n",
    "#M2_error.append(error(M2, x, xstar))\n",
    "\n",
    "A = np.dot(M.T, M)\n",
    "c = np.dot(M.T, b)\n",
    "r = c\n",
    "p = r\n",
    "for i in range(T):\n",
    "    alpha = np.dot(r,r)/np.dot(p, np.dot(A, p))\n",
    "    x = x + alpha*p\n",
    "    rold = r\n",
    "    r = r - alpha*np.dot(A,p)\n",
    "    beta = np.dot(r,r)/np.dot(rold, rold)\n",
    "    p = r + beta*p\n",
    "    \n",
    "    M1_error.append(error(M1, x, xstar))\n",
    "    M2_error.append(error(M2, x, xstar))"
   ]
  },
  {
   "cell_type": "code",
   "execution_count": 10,
   "metadata": {},
   "outputs": [
    {
     "data": {
      "text/plain": [
       "<matplotlib.legend.Legend at 0x105c0ca58>"
      ]
     },
     "execution_count": 10,
     "metadata": {},
     "output_type": "execute_result"
    },
    {
     "data": {
      "image/png": "[encoded data removed]",
      "text/plain": [
       "<matplotlib.figure.Figure at 0x10450a470>"
      ]
     },
     "metadata": {},
     "output_type": "display_data"
    }
   ],
   "source": [
    "%matplotlib inline\n",
    "plt.yscale('log')\n",
    "plt.plot(M1_error, label=\"M1\")\n",
    "plt.plot(M2_error, label=\"M2\")\n",
    "plt.xlabel(\"# of iterations\")\n",
    "plt.ylabel(\"Error\")\n",
    "plt.legend()"
   ]
  },
  {
   "cell_type": "code",
   "execution_count": null,
   "metadata": {
    "collapsed": true
   },
   "outputs": [],
   "source": []
  }
 ],
 "metadata": {
  "kernelspec": {
   "display_name": "Python 3",
   "language": "python",
   "name": "python3"
  },
  "language_info": {
   "codemirror_mode": {
    "name": "ipython",
    "version": 3
   },
   "file_extension": ".py",
   "mimetype": "text/x-python",
   "name": "python",
   "nbconvert_exporter": "python",
   "pygments_lexer": "ipython3",
   "version": "3.6.3"
  }
 },
 "nbformat": 4,
 "nbformat_minor": 2
}
