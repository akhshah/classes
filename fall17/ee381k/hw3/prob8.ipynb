{
 "cells": [
  {
   "cell_type": "code",
   "execution_count": 1,
   "metadata": {
    "collapsed": true
   },
   "outputs": [],
   "source": [
    "import numpy as np\n",
    "import numpy.linalg as la\n",
    "import numpy.random as rn\n",
    "import matplotlib.pyplot as plt\n",
    "import math"
   ]
  },
  {
   "cell_type": "code",
   "execution_count": 2,
   "metadata": {},
   "outputs": [
    {
     "name": "stdout",
     "output_type": "stream",
     "text": [
      "(150, 50)\n",
      "(150,)\n",
      "(50,)\n"
     ]
    }
   ],
   "source": [
    "Apartial = np.loadtxt(open(\"LP_CentralPath/A.csv\", \"rb\"), delimiter=\",\")\n",
    "bpartial = np.loadtxt(open(\"LP_CentralPath/b.csv\", \"rb\"), delimiter=\",\")\n",
    "\n",
    "c = np.loadtxt(open(\"LP_CentralPath/c.csv\", \"rb\"), delimiter=\",\")\n",
    "\n",
    "\n",
    "A = np.concatenate((Apartial, -np.eye(Apartial.shape[1])), axis=0)\n",
    "b = np.concatenate((bpartial, np.zeros(Apartial.shape[1])), axis=0)\n",
    "\n",
    "print(A.shape)\n",
    "print(b.shape)\n",
    "print(c.T.shape)"
   ]
  },
  {
   "cell_type": "code",
   "execution_count": 3,
   "metadata": {
    "collapsed": true
   },
   "outputs": [],
   "source": [
    "def F(A, b, x):\n",
    "    f = 0\n",
    "    \n",
    "    for i in range(A.shape[0]):\n",
    "        f += -math.log(b[i] - np.dot(A[i,:], x))\n",
    "    \n",
    "    return f"
   ]
  },
  {
   "cell_type": "code",
   "execution_count": 4,
   "metadata": {
    "collapsed": true
   },
   "outputs": [],
   "source": [
    "def grad(A, b, x):\n",
    "    \n",
    "    g = 0\n",
    "    for i in range(A.shape[0]):\n",
    "        g += A[i,:]/(b[i] - np.dot(A[i,:],x))\n",
    "    \n",
    "    return g"
   ]
  },
  {
   "cell_type": "code",
   "execution_count": 5,
   "metadata": {
    "collapsed": true
   },
   "outputs": [],
   "source": [
    "def hess(A, b, x):\n",
    "    h = np.zeros((A.shape[1],A.shape[1]))\n",
    "    \n",
    "    for i in range(A.shape[0]):\n",
    "        h += np.outer(A[i,:], A[i,:])/(b[i] - np.dot(A[i,:], x))**2\n",
    "    \n",
    "    return h"
   ]
  },
  {
   "cell_type": "code",
   "execution_count": 6,
   "metadata": {
    "collapsed": true
   },
   "outputs": [],
   "source": [
    "def newton(A, b, x):\n",
    "    eta = 1\n",
    "    alpha = 0.01\n",
    "    beta = 0.5\n",
    "    \n",
    "    hess_inv = la.inv(hess(A, b, x))\n",
    "    g = grad(A, b, x)\n",
    "    \n",
    "    nstep = np.dot(hess_inv, g)\n",
    "    \n",
    "    \n",
    "   # while F(A, b, x - eta*nstep) > F(A, b, x) + eta*alpha*np.dot(nstep, nstep):\n",
    "   #     eta = beta*eta\n",
    "    \n",
    "    xlast = x\n",
    "    x = x - eta*nstep\n",
    "    \n",
    "    return x, xlast"
   ]
  },
  {
   "cell_type": "code",
   "execution_count": 7,
   "metadata": {
    "collapsed": true
   },
   "outputs": [],
   "source": [
    "def descent(update, A, b):\n",
    "    T = 100\n",
    "    tol = 1e-10\n",
    "    \n",
    "    x = 1e-10*np.ones(A.shape[1])\n",
    "    \n",
    "    for t in range(T):\n",
    "        x, xlast = update(A, b, x)\n",
    "        #print(dec)\n",
    "        #print(la.norm(x - xlast))\n",
    "        \n",
    "        if la.norm(x - xlast) <= tol:\n",
    "            return x, t\n",
    "    \n",
    "    return x, t"
   ]
  },
  {
   "cell_type": "code",
   "execution_count": 8,
   "metadata": {
    "collapsed": true
   },
   "outputs": [],
   "source": [
    "x_ac, t = descent(newton, A, b)"
   ]
  },
  {
   "cell_type": "code",
   "execution_count": 9,
   "metadata": {},
   "outputs": [
    {
     "name": "stdout",
     "output_type": "stream",
     "text": [
      "[ 0.01343451  0.01442539  0.01270989  0.01213139  0.01291663  0.0128668\n",
      "  0.01317289  0.01289747  0.01309005  0.01433221  0.0137398   0.01367206\n",
      "  0.01502803  0.01377246  0.01258018  0.01230257  0.01272091  0.01405319\n",
      "  0.01298585  0.01335999  0.01317942  0.01396543  0.01261476  0.01314049\n",
      "  0.01322463  0.01347236  0.01390438  0.01168298  0.01263784  0.01359044\n",
      "  0.0135553   0.01409548  0.01335851  0.01269613  0.01244717  0.01342687\n",
      "  0.01229702  0.01341524  0.01292327  0.01302756  0.01276808  0.01425375\n",
      "  0.0144004   0.01184512  0.0146739   0.01216388  0.0125059   0.01358754\n",
      "  0.01264497  0.01383919]\n"
     ]
    }
   ],
   "source": [
    "print(x_ac)"
   ]
  },
  {
   "cell_type": "code",
   "execution_count": 10,
   "metadata": {
    "collapsed": true
   },
   "outputs": [],
   "source": [
    "from scipy.optimize import linprog"
   ]
  },
  {
   "cell_type": "code",
   "execution_count": 11,
   "metadata": {},
   "outputs": [
    {
     "name": "stdout",
     "output_type": "stream",
     "text": [
      "[  0.00000000e+00   6.00792928e-02   1.13930520e-01   9.89419984e-03\n",
      "  -1.63867516e-18   1.47563287e-03   0.00000000e+00   1.91668932e-02\n",
      "   2.91075047e-02   3.10321767e-02   4.26145969e-02   5.93074258e-02\n",
      "   1.59867580e-01   5.32509765e-02   1.03487799e-01   0.00000000e+00\n",
      "   3.17067576e-03   2.54798059e-02   2.21542366e-02   5.58414737e-02\n",
      "   5.13687432e-02   4.71515793e-02   3.34125047e-02   4.17057831e-02\n",
      "   1.99650020e-01   2.39360064e-02   1.28925296e-01   0.00000000e+00\n",
      "   1.44304062e-02   6.07523769e-03   1.98332604e-02   2.95567840e-02\n",
      "   2.15768736e-17   4.25134005e-02   7.66563008e-02   8.38873022e-02\n",
      "   7.28932953e-03   1.15055039e-02   0.00000000e+00   0.00000000e+00\n",
      "   1.79233952e-03   0.00000000e+00   1.05157913e-02   0.00000000e+00\n",
      "   9.93116201e-02   1.03896507e-02   4.75367070e-02   6.76189404e-02\n",
      "   3.25260652e-19   4.48736409e-02]\n"
     ]
    }
   ],
   "source": [
    "x_lp = linprog(c, A_ub=A, b_ub=b)\n",
    "print(x_lp.x)"
   ]
  },
  {
   "cell_type": "code",
   "execution_count": 12,
   "metadata": {
    "collapsed": true
   },
   "outputs": [],
   "source": [
    "def f(A, b, x, c, t):\n",
    "    f = t*np.dot(c, x) + F(A, b, x)\n",
    "    \n",
    "    return f"
   ]
  },
  {
   "cell_type": "code",
   "execution_count": 13,
   "metadata": {
    "collapsed": true
   },
   "outputs": [],
   "source": [
    "def gradf(A, b, x, c, t):\n",
    "    g = t*c + grad(A, b, x)\n",
    "    \n",
    "    return g"
   ]
  },
  {
   "cell_type": "code",
   "execution_count": 14,
   "metadata": {
    "collapsed": true
   },
   "outputs": [],
   "source": [
    "def newton2(A, b, x, c, t):\n",
    "    eta = 0.1\n",
    "    alpha = 0.05\n",
    "    beta = 0.8\n",
    "    \n",
    "    hess_inv = la.inv(hess(A, b, x))\n",
    "    g = gradf(A, b, x, c, t)\n",
    "    \n",
    "    nstep = np.dot(hess_inv, g)\n",
    "    dec = np.dot(g, nstep)\n",
    "    \n",
    "    #while f(A, b, x + eta*nstep, c, t) > f(A, b, x, c, t) + eta*alpha*np.dot(g, nstep):\n",
    "        #eta = beta*eta\n",
    "    \n",
    "    x = x - eta*nstep\n",
    "    \n",
    "    return x, dec"
   ]
  },
  {
   "cell_type": "code",
   "execution_count": 15,
   "metadata": {
    "collapsed": true
   },
   "outputs": [],
   "source": [
    "def descent2(update, A, b, x, c, a, xstar):\n",
    "    \n",
    "    m = 1\n",
    "    eps = 1e-5\n",
    "    t = 0.1\n",
    "    \n",
    "    error = []\n",
    "    error.append(la.norm(x))\n",
    "    T = 100\n",
    "    tol = 1e-5\n",
    "    o = 0\n",
    "    \n",
    "    while m/t > eps or o > 50:\n",
    "        # Newton Step\n",
    "        y = x\n",
    "        for i in range(T):\n",
    "            y, dec = update(A, b, y, c, t)\n",
    "            #print(dec)\n",
    "        \n",
    "            error.append(la.norm(y - xstar))\n",
    "        \n",
    "            if dec/2 <= tol:\n",
    "               break;\n",
    "        t = (1 + a)*t\n",
    "        x = y\n",
    "        o += 1\n",
    "    \n",
    "    return x, error"
   ]
  },
  {
   "cell_type": "code",
   "execution_count": 16,
   "metadata": {
    "collapsed": true
   },
   "outputs": [],
   "source": [
    "x0, error0 = descent2(newton2, A, b, x_ac, c, 0.5, x_lp.x)\n",
    "x1, error1 = descent2(newton2, A, b, x_ac, c, 1, x_lp.x)\n",
    "x2, error2 = descent2(newton2, A, b, x_ac, c, 2, x_lp.x)"
   ]
  },
  {
   "cell_type": "code",
   "execution_count": 17,
   "metadata": {},
   "outputs": [
    {
     "data": {
      "text/plain": [
       "<matplotlib.legend.Legend at 0x104f27208>"
      ]
     },
     "execution_count": 17,
     "metadata": {},
     "output_type": "execute_result"
    },
    {
     "data": {
      "image/png": "[encoded data removed]",
      "text/plain": [
       "<matplotlib.figure.Figure at 0x1073115f8>"
      ]
     },
     "metadata": {},
     "output_type": "display_data"
    }
   ],
   "source": [
    "%matplotlib inline\n",
    "\n",
    "plt.plot(error0, label=\"a = 0.5\")\n",
    "plt.plot(error1, label=\"a = 1\")\n",
    "plt.xlabel(\"# of Newton Iterations\")\n",
    "plt.ylabel(\"Error\")\n",
    "plt.legend()"
   ]
  },
  {
   "cell_type": "code",
   "execution_count": null,
   "metadata": {
    "collapsed": true
   },
   "outputs": [],
   "source": []
  }
 ],
 "metadata": {
  "kernelspec": {
   "display_name": "Python 3",
   "language": "python",
   "name": "python3"
  },
  "language_info": {
   "codemirror_mode": {
    "name": "ipython",
    "version": 3
   },
   "file_extension": ".py",
   "mimetype": "text/x-python",
   "name": "python",
   "nbconvert_exporter": "python",
   "pygments_lexer": "ipython3",
   "version": "3.6.3"
  }
 },
 "nbformat": 4,
 "nbformat_minor": 2
}
