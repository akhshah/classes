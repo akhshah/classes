{
 "cells": [
  {
   "cell_type": "code",
   "execution_count": 1,
   "metadata": {
    "collapsed": true
   },
   "outputs": [],
   "source": [
    "import numpy as np\n",
    "import numpy.linalg as la\n",
    "import numpy.random as rn\n",
    "import matplotlib.pyplot as plt"
   ]
  },
  {
   "cell_type": "code",
   "execution_count": 2,
   "metadata": {
    "collapsed": true
   },
   "outputs": [],
   "source": [
    "def obj(x):\n",
    "    return 100.0*(x[1] - x[0]**2)**2 + (1 - x[0])**2"
   ]
  },
  {
   "cell_type": "code",
   "execution_count": 3,
   "metadata": {
    "collapsed": true
   },
   "outputs": [],
   "source": [
    "def grad(x):\n",
    "    g = np.zeros(x.shape[0])\n",
    "    g[0] = -400*x[0]*(x[1] - x[0]**2) - 2*(1 - x[0])\n",
    "    g[1] = 200*(x[1] - x[0]**2)\n",
    "    \n",
    "    return g"
   ]
  },
  {
   "cell_type": "code",
   "execution_count": 4,
   "metadata": {
    "collapsed": true
   },
   "outputs": [],
   "source": [
    "def hess(x):\n",
    "    h = np.zeros((x.shape[0], x.shape[0]))\n",
    "    h[0][0] = -400*x[1] + 1200*x[0]**2 + 2\n",
    "    h[0][1] = -400*x[0]\n",
    "    h[1][0] = -400*x[0]\n",
    "    h[1][1] = 200\n",
    "    \n",
    "    return h"
   ]
  },
  {
   "cell_type": "code",
   "execution_count": 5,
   "metadata": {
    "collapsed": true
   },
   "outputs": [],
   "source": [
    "def graddes(x):\n",
    "    eta = 1\n",
    "    \n",
    "    alpha = 0.01\n",
    "    beta = 0.5\n",
    "    \n",
    "    g = grad(x)\n",
    "    \n",
    "    while obj(x - eta*g) > obj(x) + alpha*eta*la.norm(g)**2:\n",
    "        eta = beta*eta\n",
    "    \n",
    "    x = x - eta*g\n",
    "    #print(eta)\n",
    "    \n",
    "    return x"
   ]
  },
  {
   "cell_type": "code",
   "execution_count": 6,
   "metadata": {
    "collapsed": true
   },
   "outputs": [],
   "source": [
    "def newton(x):\n",
    "    eta = 1\n",
    "\n",
    "    alpha = 0.05\n",
    "    beta = 0.8\n",
    "    \n",
    "    g = grad(x)\n",
    "    hess_inv = la.inv(hess(x))\n",
    "    \n",
    "    nstep = np.dot(hess_inv, g)\n",
    "    dec = np.dot(g, nstep)\n",
    "    \n",
    "    while obj(x - eta*nstep) > obj(x) + alpha*eta*la.norm(nstep)**2:\n",
    "        eta = beta*eta\n",
    "    \n",
    "    x = x - eta*nstep\n",
    "    #print(eta)\n",
    "    \n",
    "    return x, dec"
   ]
  },
  {
   "cell_type": "code",
   "execution_count": 7,
   "metadata": {
    "collapsed": true
   },
   "outputs": [],
   "source": [
    "def descent(update, x):\n",
    "    error = []\n",
    "    xstar = np.array([1., 1.])\n",
    "    \n",
    "    T = 100\n",
    "    \n",
    "    for t in range(T):\n",
    "        x = update(x)\n",
    "        \n",
    "        if  (t % 1 == 0) or (t == T-1):\n",
    "            error.append(la.norm(x - xstar))\n",
    "            \n",
    "    return x, error"
   ]
  },
  {
   "cell_type": "code",
   "execution_count": 8,
   "metadata": {
    "collapsed": true
   },
   "outputs": [],
   "source": [
    "def descent2(update, x):\n",
    "    error = []\n",
    "    xstar = np.array([1., 1.])\n",
    "    \n",
    "    T = 100\n",
    "    tol = 1e-3\n",
    "    \n",
    "    for t in range(T):\n",
    "        x, dec = update(x)\n",
    "        #print(dec)\n",
    "        \n",
    "        if(t % 1 == 0) or (t == T - 1):\n",
    "            error.append(la.norm(x - xstar))\n",
    "        \n",
    "        if dec/2 <= tol:\n",
    "            return x, error\n",
    "    \n",
    "    return x, error"
   ]
  },
  {
   "cell_type": "code",
   "execution_count": 9,
   "metadata": {
    "collapsed": true
   },
   "outputs": [],
   "source": [
    "xinit = np.array([-1.2, 1.])\n",
    "x_gd, error_gd = descent(graddes, xinit)"
   ]
  },
  {
   "cell_type": "code",
   "execution_count": 10,
   "metadata": {},
   "outputs": [],
   "source": [
    "x_n, error_n = descent2(newton, xinit)"
   ]
  },
  {
   "cell_type": "code",
   "execution_count": 11,
   "metadata": {},
   "outputs": [
    {
     "data": {
      "text/plain": [
       "<matplotlib.legend.Legend at 0x10b6f12e8>"
      ]
     },
     "execution_count": 11,
     "metadata": {},
     "output_type": "execute_result"
    },
    {
     "data": {
      "image/png": "[encoded data removed]",
      "text/plain": [
       "<matplotlib.figure.Figure at 0x10cf4bb70>"
      ]
     },
     "metadata": {},
     "output_type": "display_data"
    }
   ],
   "source": [
    "%matplotlib inline\n",
    "\n",
    "plt.plot(error_gd, label=\"Gradient\")\n",
    "plt.plot(error_n, label=\"Newton\")\n",
    "plt.xlabel(\"# of Iterations\")\n",
    "plt.ylabel(\"Error\")\n",
    "plt.legend()"
   ]
  },
  {
   "cell_type": "code",
   "execution_count": null,
   "metadata": {
    "collapsed": true
   },
   "outputs": [],
   "source": []
  }
 ],
 "metadata": {
  "kernelspec": {
   "display_name": "Python 3",
   "language": "python",
   "name": "python3"
  },
  "language_info": {
   "codemirror_mode": {
    "name": "ipython",
    "version": 3
   },
   "file_extension": ".py",
   "mimetype": "text/x-python",
   "name": "python",
   "nbconvert_exporter": "python",
   "pygments_lexer": "ipython3",
   "version": "3.6.3"
  }
 },
 "nbformat": 4,
 "nbformat_minor": 2
}
