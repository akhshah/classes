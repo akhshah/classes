{
 "cells": [
  {
   "cell_type": "code",
   "execution_count": 1,
   "metadata": {
    "collapsed": true
   },
   "outputs": [],
   "source": [
    "import numpy as np\n",
    "import numpy.linalg as la\n",
    "import numpy.random as rn\n",
    "import matplotlib.pyplot as plt\n",
    "import math"
   ]
  },
  {
   "cell_type": "code",
   "execution_count": 2,
   "metadata": {
    "collapsed": true
   },
   "outputs": [],
   "source": [
    "# Input Arrays\n",
    "A = np.array([[1., 3., 0., 1], \n",
    "              [2., 1., 0., 0.], \n",
    "              [0., 1., 4., 1.], \n",
    "              [-1., 0., 0., 0.],\n",
    "              [0., -1., 0., 0.],\n",
    "              [0., 0., -1., 0.],\n",
    "              [0., 0., 0., -1.]])\n",
    "b = np.array([4., 3., 3., 0., 0., 0., 0.])\n",
    "c = np.array([2., 4., 1., 1.])"
   ]
  },
  {
   "cell_type": "code",
   "execution_count": 3,
   "metadata": {
    "collapsed": true
   },
   "outputs": [],
   "source": [
    "def F(A, b, x):\n",
    "    f = 0\n",
    "    \n",
    "    for i in range(A.shape[0]):\n",
    "        f += -math.log(b[i] - np.dot(A[i,:], x))\n",
    "    \n",
    "    return f"
   ]
  },
  {
   "cell_type": "code",
   "execution_count": 4,
   "metadata": {
    "collapsed": true
   },
   "outputs": [],
   "source": [
    "def grad(A, b, x):\n",
    "    \n",
    "    g = 0\n",
    "    for i in range(A.shape[0]):\n",
    "        g += A[i,:]/(b[i] - np.dot(A[i,:],x))\n",
    "    \n",
    "    return g"
   ]
  },
  {
   "cell_type": "code",
   "execution_count": 5,
   "metadata": {
    "collapsed": true
   },
   "outputs": [],
   "source": [
    "def hess(A, b, x):\n",
    "    h = np.zeros((A.shape[1],A.shape[1]))\n",
    "    \n",
    "    for i in range(A.shape[0]):\n",
    "        h += np.outer(A[i,:], A[i,:])/(b[i] - np.dot(A[i,:], x))**2\n",
    "    \n",
    "    return h"
   ]
  },
  {
   "cell_type": "code",
   "execution_count": 13,
   "metadata": {
    "collapsed": true
   },
   "outputs": [],
   "source": [
    "def newton(A, b, x):\n",
    "    eta = 1\n",
    "    alpha = 0.01\n",
    "    beta = 0.5\n",
    "    \n",
    "    hess_inv = la.inv(hess(A, b, x))\n",
    "    print(hess_inv)\n",
    "    g = grad(A, b, x)\n",
    "    print(g)\n",
    "    \n",
    "    nstep = np.dot(hess_inv, g)\n",
    "    print(nstep)\n",
    "    \n",
    "   # while F(A, b, x - eta*nstep) > F(A, b, x) + eta*alpha*np.dot(nstep, nstep):\n",
    "   #     eta = beta*eta\n",
    "    \n",
    "    xlast = x\n",
    "    x = x - eta*nstep\n",
    "    \n",
    "    return x, xlast"
   ]
  },
  {
   "cell_type": "code",
   "execution_count": 17,
   "metadata": {
    "collapsed": true
   },
   "outputs": [],
   "source": [
    "def descent(update, A, b):\n",
    "    T = 100\n",
    "    tol = 1e-3\n",
    "    \n",
    "    x = 0.1*np.ones(A.shape[1])\n",
    "    \n",
    "    for t in range(T):\n",
    "        x, xlast = update(A, b, x)\n",
    "        print(x)\n",
    "        #print(dec)\n",
    "        \n",
    "        if la.norm(x - xlast) <= tol:\n",
    "            return x, t\n",
    "    \n",
    "    return x, t"
   ]
  },
  {
   "cell_type": "code",
   "execution_count": 18,
   "metadata": {},
   "outputs": [
    {
     "name": "stdout",
     "output_type": "stream",
     "text": [
      "[[  9.93763162e-03  -5.10369916e-05   3.98097279e-07  -7.88140567e-06]\n",
      " [ -5.10369916e-05   9.89742281e-03  -6.65987130e-05  -4.08132849e-05]\n",
      " [  3.98097279e-07  -6.65987130e-05   9.73063326e-03  -6.71241153e-05]\n",
      " [ -7.88140567e-06  -4.08132849e-05  -6.71241153e-05   9.97518235e-03]]\n",
      "[-8.97354497 -8.35582011 -8.33333333 -9.29761905]\n",
      "[-0.08867937 -0.08130865 -0.0799116  -0.09177433]\n",
      "[ 0.18867937  0.18130865  0.1799116   0.19177433]\n",
      "[[  3.46583462e-02  -7.09738902e-04   2.58104744e-05  -1.18677112e-04]\n",
      " [ -7.09738902e-04   3.14919402e-02  -9.61386362e-04  -6.35170691e-04]\n",
      " [  2.58104744e-05  -9.61386362e-04   2.83988791e-02  -1.11206482e-03]\n",
      " [ -1.18677112e-04  -6.35170691e-04  -1.11206482e-03   3.63281337e-02]]\n",
      "[-4.1556342  -3.606122   -3.46104747 -4.36501526]\n",
      "[-0.14103931 -0.10451443 -0.09007607 -0.15194027]\n",
      "[ 0.32971868  0.28582308  0.26998767  0.34371459]\n",
      "[[ 0.0976239  -0.00652112  0.00079185 -0.00116919]\n",
      " [-0.00652112  0.07072248 -0.00660906 -0.00653631]\n",
      " [ 0.00079185 -0.00660906  0.04466926 -0.01085658]\n",
      " [-0.00116919 -0.00653631 -0.01085658  0.11197362]]\n",
      "[-1.65452292 -1.02208284 -0.60432696 -1.72949785]\n",
      "[-0.15331228 -0.04619632 -0.00277354 -0.17848211]\n",
      "[ 0.48303095  0.3320194   0.27276121  0.5221967 ]\n",
      "[[ 0.17413145 -0.02029799  0.00320309 -0.00448821]\n",
      " [-0.02029799  0.0872488  -0.00835514 -0.02259487]\n",
      " [ 0.00320309 -0.00835514  0.04058793 -0.02760456]\n",
      " [-0.00448821 -0.02259487 -0.02760456  0.23620501]]\n",
      "[-0.39479478  0.02476671  0.12619679 -0.46656372]\n",
      "[-0.06675065  0.01966196  0.01652986 -0.11247597]\n",
      "[ 0.5497816   0.31235744  0.25623135  0.63467267]\n",
      "[[ 0.20098931 -0.02338124  0.00391311 -0.00801907]\n",
      " [-0.02338124  0.07888495 -0.00606671 -0.03020337]\n",
      " [ 0.00391311 -0.00606671  0.03820916 -0.03631938]\n",
      " [-0.00801907 -0.03020337 -0.03631938  0.32164399]]\n",
      "[-0.02717404 -0.00200703 -0.0118408  -0.07054762]\n",
      "[-0.00489537  0.00267965  0.00201566 -0.02198264]\n",
      "[ 0.55467697  0.30967779  0.25421569  0.65665531]\n",
      "[[ 0.20265761 -0.02344456  0.00401938 -0.00870863]\n",
      " [-0.02344456  0.07776894 -0.00574763 -0.03179052]\n",
      " [ 0.00401938 -0.00574763  0.03781662 -0.03829518]\n",
      " [-0.00870863 -0.03179052 -0.03829518  0.33813433]]\n",
      "[ -6.34885192e-05   5.48572403e-05   2.26855825e-04  -1.65527640e-03]\n",
      "[  1.17447081e-06   5.70728705e-05   7.13975504e-05  -5.69584308e-04]\n",
      "[ 0.55467579  0.30962071  0.2541443   0.6572249 ]\n"
     ]
    }
   ],
   "source": [
    "x, t = descent(newton, A, b)"
   ]
  },
  {
   "cell_type": "code",
   "execution_count": 16,
   "metadata": {},
   "outputs": [
    {
     "name": "stdout",
     "output_type": "stream",
     "text": [
      "[ 0.55467579  0.30962071  0.2541443   0.6572249 ]\n",
      "5\n"
     ]
    }
   ],
   "source": [
    "print(x)\n",
    "print(t)"
   ]
  },
  {
   "cell_type": "markdown",
   "metadata": {},
   "source": [
    "The analytical center using Netwon's Method is:\n",
    "\n",
    "$$x = [ 0.5546, 0.3096, 0.2541, 0.6572 ]^T$$"
   ]
  },
  {
   "cell_type": "markdown",
   "metadata": {},
   "source": [
    "### Linear Programming Solution"
   ]
  },
  {
   "cell_type": "code",
   "execution_count": 10,
   "metadata": {
    "collapsed": true
   },
   "outputs": [],
   "source": [
    "from scipy.optimize import linprog"
   ]
  },
  {
   "cell_type": "code",
   "execution_count": 11,
   "metadata": {},
   "outputs": [
    {
     "name": "stdout",
     "output_type": "stream",
     "text": [
      "     fun: -0.0\n",
      " message: 'Optimization terminated successfully.'\n",
      "     nit: 0\n",
      "   slack: array([ 4.,  3.,  3.,  0.,  0.,  0.,  0.])\n",
      "  status: 0\n",
      " success: True\n",
      "       x: array([ 0.,  0.,  0.,  0.])\n"
     ]
    }
   ],
   "source": [
    "xstar = linprog(c, A_ub=A, b_ub=b)\n",
    "print(xstar)"
   ]
  },
  {
   "cell_type": "markdown",
   "metadata": {},
   "source": [
    "### Central Path Algorithm"
   ]
  },
  {
   "cell_type": "code",
   "execution_count": 12,
   "metadata": {
    "collapsed": true
   },
   "outputs": [],
   "source": [
    "def f(A, b, x, c, t):\n",
    "    f = t*np.dot(c, x) + F(A, b, x)\n",
    "    \n",
    "    return f"
   ]
  },
  {
   "cell_type": "code",
   "execution_count": 13,
   "metadata": {
    "collapsed": true
   },
   "outputs": [],
   "source": [
    "def gradf(A, b, x, c, t):\n",
    "    g = t*c + grad(A, b, x)\n",
    "    \n",
    "    return g"
   ]
  },
  {
   "cell_type": "code",
   "execution_count": 14,
   "metadata": {
    "collapsed": true
   },
   "outputs": [],
   "source": [
    "def newton2(A, b, x, c, t):\n",
    "    eta = 0.1\n",
    "    alpha = 0.05\n",
    "    beta = 0.8\n",
    "    \n",
    "    hess_inv = la.inv(hess(A, b, x))\n",
    "    g = gradf(A, b, x, c, t)\n",
    "    \n",
    "    nstep = np.dot(hess_inv, g)\n",
    "    dec = np.dot(g, nstep)\n",
    "    \n",
    "    #while f(A, b, x + eta*nstep, c, t) > f(A, b, x, c, t) + eta*alpha*np.dot(g, nstep):\n",
    "        #eta = beta*eta\n",
    "    \n",
    "    x = x - eta*nstep\n",
    "    \n",
    "    return x, dec"
   ]
  },
  {
   "cell_type": "code",
   "execution_count": 15,
   "metadata": {
    "collapsed": true
   },
   "outputs": [],
   "source": [
    "def descent2(update, A, b, x, c, a):\n",
    "    \n",
    "    m = 1\n",
    "    eps = 1e-5\n",
    "    t = 0.1\n",
    "    \n",
    "    error = []\n",
    "    error.append(la.norm(x))\n",
    "    T = 100\n",
    "    tol = 1e-5\n",
    "    o = 0\n",
    "    \n",
    "    while m/t > eps or o > 50:\n",
    "        # Newton Step\n",
    "        y = x\n",
    "        for i in range(T):\n",
    "            y, dec = update(A, b, y, c, t)\n",
    "            #print(dec)\n",
    "        \n",
    "            error.append(la.norm(y))\n",
    "        \n",
    "            if dec/2 <= tol:\n",
    "               break;\n",
    "        t = (1 + a)*t\n",
    "        x = y\n",
    "        o += 1\n",
    "    \n",
    "    return x, error"
   ]
  },
  {
   "cell_type": "code",
   "execution_count": 16,
   "metadata": {
    "collapsed": true
   },
   "outputs": [],
   "source": [
    "x0, error0 = descent2(newton2, A, b, x, c, 2)\n",
    "x1, error1 = descent2(newton2, A, b, x, c, 10)"
   ]
  },
  {
   "cell_type": "code",
   "execution_count": 17,
   "metadata": {},
   "outputs": [
    {
     "data": {
      "text/plain": [
       "<matplotlib.legend.Legend at 0x1100ea278>"
      ]
     },
     "execution_count": 17,
     "metadata": {},
     "output_type": "execute_result"
    },
    {
     "data": {
      "image/png": "[encoded data removed]",
      "text/plain": [
       "<matplotlib.figure.Figure at 0x1124b09e8>"
      ]
     },
     "metadata": {},
     "output_type": "display_data"
    }
   ],
   "source": [
    "%matplotlib inline\n",
    "\n",
    "plt.plot(error0, label=\"a = 2\")\n",
    "plt.plot(error1, label=\"a = 10\")\n",
    "plt.xlabel(\"# of Newton Iterations\")\n",
    "plt.ylabel(\"Error\")\n",
    "plt.legend()"
   ]
  }
 ],
 "metadata": {
  "kernelspec": {
   "display_name": "Python 3",
   "language": "python",
   "name": "python3"
  },
  "language_info": {
   "codemirror_mode": {
    "name": "ipython",
    "version": 3
   },
   "file_extension": ".py",
   "mimetype": "text/x-python",
   "name": "python",
   "nbconvert_exporter": "python",
   "pygments_lexer": "ipython3",
   "version": "3.6.3"
  }
 },
 "nbformat": 4,
 "nbformat_minor": 2
}
