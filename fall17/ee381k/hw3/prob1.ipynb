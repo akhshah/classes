{
 "cells": [
  {
   "cell_type": "code",
   "execution_count": 1,
   "metadata": {
    "collapsed": true
   },
   "outputs": [],
   "source": [
    "import numpy as np\n",
    "import numpy.linalg as la\n",
    "import numpy.random as rn\n",
    "import matplotlib.pyplot as plt"
   ]
  },
  {
   "cell_type": "code",
   "execution_count": 2,
   "metadata": {
    "collapsed": true
   },
   "outputs": [],
   "source": [
    "X_train = np.loadtxt(open(\"digits/X_digits_train.csv\", \"rb\"), delimiter=\" \")\n",
    "y_train = np.loadtxt(open(\"digits/y_digits_train.csv\", \"rb\"), delimiter=\" \")\n",
    "X_test = np.loadtxt(open(\"digits/X_digits_test.csv\", \"rb\"), delimiter=\" \")\n",
    "y_test = np.loadtxt(open(\"digits/y_digits_test.csv\", \"rb\"), delimiter=\" \")\n",
    "C = 10"
   ]
  },
  {
   "cell_type": "code",
   "execution_count": 3,
   "metadata": {},
   "outputs": [
    {
     "name": "stdout",
     "output_type": "stream",
     "text": [
      "(1198, 64)\n",
      "(599, 64)\n",
      "(1198,)\n",
      "(599,)\n"
     ]
    }
   ],
   "source": [
    "print(X_train.shape)\n",
    "print(X_test.shape)\n",
    "print(y_train.shape)\n",
    "print(y_test.shape)"
   ]
  },
  {
   "cell_type": "code",
   "execution_count": 4,
   "metadata": {
    "collapsed": true
   },
   "outputs": [],
   "source": [
    "def objective(X, y, beta, C):\n",
    "    N = X.shape[0]\n",
    "    sizeX = X.shape[1]\n",
    "    #obj3 = mu*la.norm(beta)\n",
    "    \n",
    "    obj = 0\n",
    "    tempVec = np.zeros(C)\n",
    "    for i in range(X.shape[0]):\n",
    "        x = X[i,:]\n",
    "        obj1 = np.dot(beta[int(y[i]*X.shape[1]):int((y[i]*X.shape[1]+X.shape[1]))],x)\n",
    "        for j in range(C):\n",
    "            tempVec[j] = np.exp(-np.dot(beta[j*sizeX:(j*sizeX+sizeX)], x))\n",
    "        obj2 = np.log(np.sum(tempVec))\n",
    "        \n",
    "        obj += obj1 + obj2\n",
    "    \n",
    "    obj = 1/N*(obj) #+ obj3\n",
    "    return obj"
   ]
  },
  {
   "cell_type": "code",
   "execution_count": 20,
   "metadata": {
    "collapsed": true
   },
   "outputs": [],
   "source": [
    "def gradient1(x, y, beta, C, N, mu):\n",
    "    sizeBeta = beta.shape[0]\n",
    "    sizeX = sizeBeta/C\n",
    "    grad1 = np.zeros(sizeBeta)\n",
    "    grad1[int(y*sizeX):int(y*sizeX + sizeX)] = x\n",
    "    \n",
    "    grad3 = mu/N*beta\n",
    "    \n",
    "    tempVec = np.zeros(C)\n",
    "    tempVec2 = np.zeros(sizeBeta)\n",
    "    \n",
    "    for j in range(C):\n",
    "        betatemp = beta[int(j*sizeX):int(j*sizeX+sizeX)]\n",
    "        tempVec[j] = np.exp(-np.dot(betatemp, x))\n",
    "        \n",
    "        tempVec2[int(j*sizeX):int(j*sizeX+sizeX)] = -x*tempVec[j]\n",
    "    \n",
    "    grad2 = tempVec2/np.sum(tempVec)\n",
    "    \n",
    "    return (grad1 + grad2 + grad3)"
   ]
  },
  {
   "cell_type": "code",
   "execution_count": 6,
   "metadata": {
    "collapsed": true
   },
   "outputs": [],
   "source": [
    "def gradient2(X, Y, beta, C, mu):\n",
    "    \n",
    "    grad = np.zeros(beta.shape[0])\n",
    "    N = X.shape[0]\n",
    "    for i in range(N):\n",
    "        x = X[i,:]\n",
    "        y = Y[i]\n",
    "        \n",
    "        grad += grad + gradient1(x, y, beta, C, N, 0)\n",
    "        \n",
    "    return 1/N*grad + mu*beta"
   ]
  },
  {
   "cell_type": "code",
   "execution_count": 22,
   "metadata": {
    "collapsed": true
   },
   "outputs": [],
   "source": [
    "def grad(X, y, beta, C, mu):\n",
    "    sizeX = X.shape[1]\n",
    "    N = X.shape[0]\n",
    "    \n",
    "    tempVec2 = np.zeros(sizeX*C)\n",
    "    grad2 = np.zeros(sizeX*C)\n",
    "    for i in range(X.shape[0]):\n",
    "        tempVec = np.zeros(C)\n",
    "        tempVec2 = np.zeros(sizeX*C)\n",
    "        tempgrad = np.zeros(sizeX*C)\n",
    "        \n",
    "        x = X[i,:]\n",
    "        tempgrad[int(y[i]*sizeX):(int(y[i]*sizeX+sizeX))] = x\n",
    "        \n",
    "        for j in range(C):\n",
    "            tempVec[j] = np.exp(-np.dot(beta[int(j*sizeX):int((j*sizeX+sizeX))], x))\n",
    "            tempVec2[j*sizeX:j*sizeX + sizeX] = -x*tempVec[j]\n",
    "        grad1 = tempVec2/np.sum(tempVec)\n",
    "        \n",
    "        grad2 = grad1 + tempgrad + grad2\n",
    "\n",
    "    grad3 = mu*beta\n",
    "    \n",
    "    grad = 1/N*grad2 + grad3 \n",
    "    \n",
    "    return grad"
   ]
  },
  {
   "cell_type": "code",
   "execution_count": 8,
   "metadata": {
    "collapsed": true
   },
   "outputs": [],
   "source": [
    "def gradient(X, Y, beta, C, mu, t):\n",
    "    eta = 1e-3/np.sqrt(t+1)\n",
    "    \n",
    "    beta = beta - eta*grad(X, Y, beta, C, mu)\n",
    "    \n",
    "    return beta"
   ]
  },
  {
   "cell_type": "code",
   "execution_count": 9,
   "metadata": {
    "collapsed": true
   },
   "outputs": [],
   "source": [
    "def stochgradient(x, y, beta, C, mu, N, t):\n",
    "    eta = 1e-3/np.sqrt(t+1)\n",
    "    \n",
    "    beta = beta - eta*gradient1(x, y, beta, C, N, mu)\n",
    "    \n",
    "    return beta"
   ]
  },
  {
   "cell_type": "code",
   "execution_count": 16,
   "metadata": {
    "collapsed": true
   },
   "outputs": [],
   "source": [
    "def SVRG(X, Y, beta, C, mu, t):\n",
    "    eta = 1e-3/np.sqrt(t+1)\n",
    "    T = 100\n",
    "    \n",
    "    randset = rn.randint(X.shape[0], 100)\n",
    "    \n",
    "    fullgrad = grad(X, Y, beta, C, mu)\n",
    "    beta0 = beta\n",
    "    N = X.shape[0]\n",
    "    \n",
    "    for i in range(T):\n",
    "        x = X[randset[i],:]\n",
    "        y = Y[randset[i]]\n",
    "        \n",
    "        grad_t = gradient1(x, y, beta, C, N, mu)\n",
    "        grad_0 = gradient1(x, y, beta0, C, N, mu)\n",
    "        \n",
    "        beta = beta - eta*(grad_t - grad_0 + fullgrad)\n",
    "    \n",
    "    return beta"
   ]
  },
  {
   "cell_type": "code",
   "execution_count": 11,
   "metadata": {
    "collapsed": true
   },
   "outputs": [],
   "source": [
    "def descent(update, X, Y, X_test, Y_test, C, mu):\n",
    "    train = []\n",
    "    test = []\n",
    "    \n",
    "    beta = np.zeros(X.shape[1]*C)\n",
    "    \n",
    "    T = 10\n",
    "    \n",
    "    for t in range(T):\n",
    "        beta = update(X, Y, beta, C, mu, t)\n",
    "        \n",
    "        if(t % 1 == 0) or (t == T - 1):\n",
    "            train.append(objective(X, Y, beta, C))\n",
    "            test.append(objective(X_test, Y_test, beta, C))\n",
    "            \n",
    "            assert not np.isnan(train[-1])\n",
    "        \n",
    "    return beta, train, test"
   ]
  },
  {
   "cell_type": "code",
   "execution_count": 14,
   "metadata": {
    "collapsed": true
   },
   "outputs": [],
   "source": [
    "def descent2(update, X, Y, X_test, Y_test, C, mu):\n",
    "    train = []\n",
    "    test = []\n",
    "    \n",
    "    beta = np.zeros(X.shape[1]*C)\n",
    "    N = X.shape[1]\n",
    "    \n",
    "    T = 10\n",
    "    \n",
    "    for t in range(T):\n",
    "        i = rn.randint(X_train.shape[0])\n",
    "        x = X[i,:]\n",
    "        y = Y[i]\n",
    "        beta = update(x, y, beta, C, mu, N, t)\n",
    "        \n",
    "        if(t % 1 == 0) or (t == T - 1):\n",
    "            train.append(objective(X, Y, beta, C))\n",
    "            test.append(objective(X_test, Y_test, beta, C))\n",
    "            \n",
    "            assert not np.isnan(train[-1])\n",
    "            \n",
    "    return beta, train, test"
   ]
  },
  {
   "cell_type": "code",
   "execution_count": null,
   "metadata": {
    "collapsed": true
   },
   "outputs": [],
   "source": [
    "beta_gd, train_gd, test_gd = descent(gradient, X_train, y_train, X_test, y_test, C, 1)"
   ]
  },
  {
   "cell_type": "code",
   "execution_count": 15,
   "metadata": {},
   "outputs": [],
   "source": [
    "beta_sg, train_sg, test_sg = descent2(stochgradient, X_train, y_train, X_test, y_test, C, 1)"
   ]
  },
  {
   "cell_type": "code",
   "execution_count": 23,
   "metadata": {},
   "outputs": [],
   "source": [
    "beta_sv, train_sv, test_sv = descent(gradient, X_train, y_train, X_test, y_test, C, 1)"
   ]
  },
  {
   "cell_type": "code",
   "execution_count": 33,
   "metadata": {},
   "outputs": [
    {
     "data": {
      "text/plain": [
       "<matplotlib.legend.Legend at 0x10a678780>"
      ]
     },
     "execution_count": 33,
     "metadata": {},
     "output_type": "execute_result"
    },
    {
     "data": {
      "image/png": "[encoded data removed]",
      "text/plain": [
       "<matplotlib.figure.Figure at 0x10a4ca470>"
      ]
     },
     "metadata": {},
     "output_type": "display_data"
    }
   ],
   "source": [
    "%matplotlib inline\n",
    "plt.plot(train_sg, label=\"SGD\")\n",
    "plt.plot(train_sv, label=\"SVRG\")\n",
    "plt.xlabel(\"# of Iterations\")\n",
    "plt.ylabel(\"Loss\")\n",
    "plt.title(\"Training Loss\")\n",
    "plt.legend()"
   ]
  },
  {
   "cell_type": "code",
   "execution_count": 34,
   "metadata": {},
   "outputs": [
    {
     "data": {
      "text/plain": [
       "<matplotlib.legend.Legend at 0x10a793860>"
      ]
     },
     "execution_count": 34,
     "metadata": {},
     "output_type": "execute_result"
    },
    {
     "data": {
      "image/png": "[encoded data removed]",
      "text/plain": [
       "<matplotlib.figure.Figure at 0x10a4c4128>"
      ]
     },
     "metadata": {},
     "output_type": "display_data"
    }
   ],
   "source": [
    "%matplotlib inline\n",
    "plt.plot(test_sg, label=\"SGD\")\n",
    "plt.plot(test_sv, label=\"SVRG\")\n",
    "plt.xlabel(\"# of Iterations\")\n",
    "plt.ylabel(\"Loss\")\n",
    "plt.title(\"Test Loss\")\n",
    "plt.legend()"
   ]
  },
  {
   "cell_type": "code",
   "execution_count": null,
   "metadata": {
    "collapsed": true
   },
   "outputs": [],
   "source": []
  }
 ],
 "metadata": {
  "kernelspec": {
   "display_name": "Python 3",
   "language": "python",
   "name": "python3"
  },
  "language_info": {
   "codemirror_mode": {
    "name": "ipython",
    "version": 3
   },
   "file_extension": ".py",
   "mimetype": "text/x-python",
   "name": "python",
   "nbconvert_exporter": "python",
   "pygments_lexer": "ipython3",
   "version": "3.6.3"
  }
 },
 "nbformat": 4,
 "nbformat_minor": 2
}
