{
 "cells": [
  {
   "cell_type": "code",
   "execution_count": 1,
   "metadata": {
    "collapsed": true
   },
   "outputs": [],
   "source": [
    "import numpy as np\n",
    "import numpy.linalg as la\n",
    "import numpy.random as rn\n",
    "import matplotlib.pyplot as plt"
   ]
  },
  {
   "cell_type": "code",
   "execution_count": 2,
   "metadata": {
    "collapsed": true
   },
   "outputs": [],
   "source": [
    "def obj(x, m):\n",
    "    xnorm = la.norm(x)\n",
    "    \n",
    "    f = xnorm**3 + m/2*xnorm**2\n",
    "    return f"
   ]
  },
  {
   "cell_type": "code",
   "execution_count": 3,
   "metadata": {
    "collapsed": true
   },
   "outputs": [],
   "source": [
    "def grad(x, m):\n",
    "    xnorm = la.norm(x)\n",
    "    \n",
    "    g = 3*xnorm*x + m*x\n",
    "    return g"
   ]
  },
  {
   "cell_type": "code",
   "execution_count": 4,
   "metadata": {
    "collapsed": true
   },
   "outputs": [],
   "source": [
    "def hess(x, m):\n",
    "    xnorm = la.norm(x)\n",
    "    \n",
    "    gf = np.eye(x.shape[0])*(m + xnorm) + 1/xnorm*np.outer(x, x)\n",
    "    return gf"
   ]
  },
  {
   "cell_type": "code",
   "execution_count": 5,
   "metadata": {
    "collapsed": true
   },
   "outputs": [],
   "source": [
    "def newton(x, m):\n",
    "    eta = 1\n",
    "    hess_inv = la.inv(hess(x, m))\n",
    "    g = grad(x,m)\n",
    "    \n",
    "    nstep = -np.dot(hess_inv, g)\n",
    "    dec = np.dot(g, -nstep)\n",
    "    \n",
    "    x = x + eta*nstep\n",
    "    \n",
    "    return x, dec"
   ]
  },
  {
   "cell_type": "code",
   "execution_count": 6,
   "metadata": {
    "collapsed": true
   },
   "outputs": [],
   "source": [
    "def descent(update, m):\n",
    "    x = np.array([1., 2., 3., 2., 1.])\n",
    "    \n",
    "    xstar = np.zeros(x.shape)\n",
    "    T = 100\n",
    "    tol = 1e-15\n",
    "    error = []\n",
    "    \n",
    "    for t in range(T):\n",
    "        x, dec = update(x, m)\n",
    "        \n",
    "        if(t % 1 == 0) or (t == T - 1):\n",
    "            error.append(la.norm(x)**2)\n",
    "        \n",
    "        if dec/2 <= tol:\n",
    "            return x, error, t\n",
    "    \n",
    "    return x, error, t"
   ]
  },
  {
   "cell_type": "code",
   "execution_count": 7,
   "metadata": {
    "collapsed": true
   },
   "outputs": [],
   "source": [
    "x0, error0, t0 = descent(newton, 0)\n",
    "x1, error1, t1 = descent(newton, 1e-4)\n",
    "x2, error2, t2 = descent(newton, 1e-3)\n",
    "x3, error3, t3 = descent(newton, 0.1)"
   ]
  },
  {
   "cell_type": "code",
   "execution_count": 8,
   "metadata": {},
   "outputs": [
    {
     "data": {
      "text/plain": [
       "<matplotlib.legend.Legend at 0x113754be0>"
      ]
     },
     "execution_count": 8,
     "metadata": {},
     "output_type": "execute_result"
    },
    {
     "data": {
      "image/png": "[encoded data removed]",
      "text/plain": [
       "<matplotlib.figure.Figure at 0x111f9e978>"
      ]
     },
     "metadata": {},
     "output_type": "display_data"
    }
   ],
   "source": [
    "%matplotlib inline\n",
    "plt.yscale('log')\n",
    "plt.plot(error0, label=\"m = 0\")\n",
    "plt.plot(error1, label=\"m = 1e-4\")\n",
    "plt.plot(error2, label=\"m = 1e-3\")\n",
    "plt.plot(error3, label=\"m = 0.1\")\n",
    "plt.xlabel(\"# of iterations\")\n",
    "plt.ylabel(\"Error\")\n",
    "plt.legend()"
   ]
  },
  {
   "cell_type": "markdown",
   "metadata": {},
   "source": [
    "$m$ is influencing the strong convexity of the function. The function is convex and so $m$ set to zero will still allow for convergence, however, as seen in the plot above, it is a linear convergence. Quadratic convergence in Netwon's method requires a strongly convex function. \n",
    "\n",
    "From Boyd, $||\\nabla f(x)||_2 < \\eta$, where in this case $\\eta = \\frac{m^2}{L}$. As $m$ increases, the bounds on $||\\nabla f(x)||_2$ is relieved and a larger magnitude to descend can be selected."
   ]
  },
  {
   "cell_type": "code",
   "execution_count": null,
   "metadata": {
    "collapsed": true
   },
   "outputs": [],
   "source": []
  }
 ],
 "metadata": {
  "kernelspec": {
   "display_name": "Python 3",
   "language": "python",
   "name": "python3"
  },
  "language_info": {
   "codemirror_mode": {
    "name": "ipython",
    "version": 3
   },
   "file_extension": ".py",
   "mimetype": "text/x-python",
   "name": "python",
   "nbconvert_exporter": "python",
   "pygments_lexer": "ipython3",
   "version": "3.6.3"
  }
 },
 "nbformat": 4,
 "nbformat_minor": 2
}
