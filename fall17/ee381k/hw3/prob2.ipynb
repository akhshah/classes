{
 "cells": [
  {
   "cell_type": "code",
   "execution_count": 3,
   "metadata": {
    "collapsed": true
   },
   "outputs": [],
   "source": [
    "import numpy as np\n",
    "import numpy.linalg as la\n",
    "import numpy.random as rn\n",
    "import matplotlib.pyplot as plt\n",
    "import scipy.io as io\n",
    "from scipy.sparse import csr_matrix, rand\n",
    "from scipy import sparse"
   ]
  },
  {
   "cell_type": "code",
   "execution_count": 4,
   "metadata": {
    "collapsed": true
   },
   "outputs": [],
   "source": [
    "y_train = np.loadtxt(open(\"news/y_news_train.csv\", \"rb\"), delimiter=\",\")\n",
    "y_test = np.loadtxt(open(\"news/y_news_test.csv\", \"rb\"), delimiter=\",\")"
   ]
  },
  {
   "cell_type": "code",
   "execution_count": 11,
   "metadata": {
    "collapsed": true
   },
   "outputs": [],
   "source": [
    "X_train = io.mmread(\"news/X_news_train.mtx\")\n",
    "X_test = io.mmread(\"news/X_news_test.mtx\")\n",
    "C = 20"
   ]
  },
  {
   "cell_type": "code",
   "execution_count": 11,
   "metadata": {},
   "outputs": [
    {
     "name": "stdout",
     "output_type": "stream",
     "text": [
      "(12564, 101631)\n"
     ]
    }
   ],
   "source": [
    "print(X_train.shape)"
   ]
  },
  {
   "cell_type": "code",
   "execution_count": 8,
   "metadata": {
    "collapsed": true
   },
   "outputs": [],
   "source": [
    "def objective(X, y, beta, C):\n",
    "    N = X.shape[0]\n",
    "    sizeX = X.shape[1]\n",
    "    #obj3 = mu*la.norm(beta)\n",
    "    \n",
    "    obj = 0\n",
    "    tempVec = np.zeros(C)\n",
    "    for i in range(X.shape[0]):\n",
    "        x = X[i,:]\n",
    "        obj1 = np.dot(beta[int(y[i]*X.shape[1]):int((y[i]*X.shape[1]+X.shape[1]))],x)\n",
    "        for j in range(C):\n",
    "            tempVec[j] = np.exp(-np.dot(beta[j*sizeX:(j*sizeX+sizeX)], x))\n",
    "        obj2 = np.log(np.sum(tempVec))\n",
    "        \n",
    "        obj += obj1 + obj2\n",
    "    \n",
    "    obj = 1/N*(obj) #+ obj3\n",
    "    return obj"
   ]
  },
  {
   "cell_type": "code",
   "execution_count": 24,
   "metadata": {
    "collapsed": true
   },
   "outputs": [],
   "source": [
    "def gradient1(x, y, beta, C):\n",
    "    sizeBeta = beta.shape[0]\n",
    "    sizeX = sizeBeta/C\n",
    "    grad1 = np.zeros(sizeBeta)\n",
    "    grad1[int(y*sizeX):int(y*sizeX + sizeX)] = x\n",
    "    \n",
    "    \n",
    "    tempVec = np.zeros(C)\n",
    "    tempVec2 = np.zeros(sizeBeta)\n",
    "    \n",
    "    for j in range(C):\n",
    "        betatemp = beta[int(j*sizeX):int(j*sizeX+sizeX)]\n",
    "        tempVec[j] = np.exp(-np.dot(betatemp, x))\n",
    "        \n",
    "        tempVec2[int(j*sizeX):int(j*sizeX+sizeX)] = -x*tempVec[j]\n",
    "    \n",
    "    grad2 = tempVec2/np.sum(tempVec)\n",
    "    \n",
    "    return (grad1 + grad2)"
   ]
  },
  {
   "cell_type": "code",
   "execution_count": 6,
   "metadata": {
    "collapsed": true
   },
   "outputs": [],
   "source": [
    "def minibatch(X, Y, beta, C, N, t):\n",
    "    eta = 1e-3/np.sqrt(t + 1)\n",
    "    \n",
    "    gradient = 0\n",
    "    \n",
    "    randset = rn.randint(X.shape[0], N)\n",
    "    \n",
    "    for i in range(N):\n",
    "        x = X[randset[i],:]\n",
    "        y = Y[randset[i]]\n",
    "        \n",
    "        gradient += gradient1(x, y, beta, C)\n",
    "    \n",
    "    beta = beta - eta*gradient\n",
    "    \n",
    "    return beta"
   ]
  },
  {
   "cell_type": "code",
   "execution_count": 7,
   "metadata": {
    "collapsed": true
   },
   "outputs": [],
   "source": [
    "def stochgradient(x, y, beta, C, mu, N, t):\n",
    "    eta = 1e-3/np.sqrt(t+1)\n",
    "    \n",
    "    beta = beta - eta*gradient1(x, y, beta, C, N, mu)\n",
    "    \n",
    "    return beta"
   ]
  },
  {
   "cell_type": "code",
   "execution_count": 9,
   "metadata": {
    "collapsed": true
   },
   "outputs": [],
   "source": [
    "def descent(update, X, Y, X_test, Y_test, C, mu):\n",
    "    train = []\n",
    "    test = []\n",
    "    \n",
    "    beta = np.zeros(X.shape[1]*C)\n",
    "    \n",
    "    T = 10\n",
    "    \n",
    "    for t in range(T):\n",
    "        beta = update(X, Y, beta, C, mu, t)\n",
    "        \n",
    "        if(t % 1 == 0) or (t == T - 1):\n",
    "            train.append(objective(X, Y, beta, C))\n",
    "            test.append(objective(X_test, Y_test, beta, C))\n",
    "            \n",
    "            assert not np.isnan(train[-1])\n",
    "        \n",
    "    return beta, train, test"
   ]
  },
  {
   "cell_type": "code",
   "execution_count": 10,
   "metadata": {
    "collapsed": true
   },
   "outputs": [],
   "source": [
    "def descent2(update, X, Y, X_test, Y_test, C, mu):\n",
    "    train = []\n",
    "    test = []\n",
    "    \n",
    "    beta = np.zeros(X.shape[1]*C)\n",
    "    N = X.shape[1]\n",
    "    \n",
    "    T = 10\n",
    "    \n",
    "    for t in range(T):\n",
    "        i = rn.randint(X_train.shape[0])\n",
    "        x = X[i,:]\n",
    "        y = Y[i]\n",
    "        beta = update(x, y, beta, C, mu, N, t)\n",
    "        \n",
    "        if(t % 1 == 0) or (t == T - 1):\n",
    "            train.append(objective(X, Y, beta, C))\n",
    "            test.append(objective(X_test, Y_test, beta, C))\n",
    "            \n",
    "            assert not np.isnan(train[-1])\n",
    "            \n",
    "    return beta, train, test"
   ]
  },
  {
   "cell_type": "code",
   "execution_count": null,
   "metadata": {
    "collapsed": true
   },
   "outputs": [],
   "source": [
    "beta_mb, train_mb, test_mb = descent(minibatch, X_train, y_train, X_test, y_test, C, 1)"
   ]
  },
  {
   "cell_type": "code",
   "execution_count": null,
   "metadata": {
    "collapsed": true
   },
   "outputs": [],
   "source": [
    "beta_sg, train_sg, test_sg = descent2(stochgradient, X_train, y_train, X_test, y_test, C, 1)"
   ]
  },
  {
   "cell_type": "markdown",
   "metadata": {},
   "source": [
    "Code is correct. But runtime is too long. "
   ]
  },
  {
   "cell_type": "code",
   "execution_count": null,
   "metadata": {
    "collapsed": true
   },
   "outputs": [],
   "source": []
  }
 ],
 "metadata": {
  "kernelspec": {
   "display_name": "Python 3",
   "language": "python",
   "name": "python3"
  },
  "language_info": {
   "codemirror_mode": {
    "name": "ipython",
    "version": 3
   },
   "file_extension": ".py",
   "mimetype": "text/x-python",
   "name": "python",
   "nbconvert_exporter": "python",
   "pygments_lexer": "ipython3",
   "version": "3.6.3"
  }
 },
 "nbformat": 4,
 "nbformat_minor": 2
}
