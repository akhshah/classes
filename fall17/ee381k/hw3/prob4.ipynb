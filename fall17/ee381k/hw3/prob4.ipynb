{
 "cells": [
  {
   "cell_type": "code",
   "execution_count": 1,
   "metadata": {
    "collapsed": true
   },
   "outputs": [],
   "source": [
    "import numpy as np\n",
    "import numpy.linalg as la\n",
    "import numpy.random as rn\n",
    "import matplotlib.pyplot as plt"
   ]
  },
  {
   "cell_type": "code",
   "execution_count": 2,
   "metadata": {},
   "outputs": [
    {
     "name": "stdout",
     "output_type": "stream",
     "text": [
      "4\n"
     ]
    }
   ],
   "source": [
    "M = np.loadtxt(open(\"MatrixCompletion/M.csv\", \"rb\"), delimiter=\",\")\n",
    "O = np.loadtxt(open(\"MatrixCompletion/O.csv\", \"rb\"), delimiter=\",\")\n",
    "\n",
    "X = np.multiply(M, O)\n",
    "print(la.matrix_rank(M, tol=5e-4))"
   ]
  },
  {
   "cell_type": "code",
   "execution_count": 3,
   "metadata": {
    "collapsed": true
   },
   "outputs": [],
   "source": [
    "def grad(X):\n",
    "    U, S, V = la.svd(X, full_matrices=0, compute_uv = 1)\n",
    "    \n",
    "    Z = np.dot(U, V)\n",
    "    return Z"
   ]
  },
  {
   "cell_type": "code",
   "execution_count": 4,
   "metadata": {
    "collapsed": true
   },
   "outputs": [],
   "source": [
    "def proj(X, M, O):\n",
    "    for i in range(X.shape[0]):\n",
    "        for j in range(X.shape[1]):\n",
    "            if int(O[i][j]) == 1:\n",
    "                X[i][j] = M[i][j]\n",
    "    return X"
   ]
  },
  {
   "cell_type": "code",
   "execution_count": 5,
   "metadata": {
    "collapsed": true
   },
   "outputs": [],
   "source": [
    "def errorF(X, M):\n",
    "    error = (1/100*la.norm(M - X, 'fro'))**2\n",
    "    \n",
    "    return error"
   ]
  },
  {
   "cell_type": "code",
   "execution_count": 6,
   "metadata": {
    "collapsed": true
   },
   "outputs": [],
   "source": [
    "def subgradient(X, M, O, eta_type, t):\n",
    "    if eta_type == 1:\n",
    "        eta = 1/(t + 1)\n",
    "    else:\n",
    "        eta = 1/np.sqrt(t + 1)\n",
    "    \n",
    "    X = X - eta*grad(X)\n",
    "    \n",
    "    X = proj(X, M, O)\n",
    "    \n",
    "    return X"
   ]
  },
  {
   "cell_type": "code",
   "execution_count": 7,
   "metadata": {
    "collapsed": true
   },
   "outputs": [],
   "source": [
    "def descent(update, X, M, O, eta_type):\n",
    "    error = []\n",
    "    nuc = []\n",
    "    rankX = []\n",
    "    \n",
    "    T = 1000\n",
    "    \n",
    "    for t in range(T):\n",
    "        X = update(X, M, O, eta_type, t)\n",
    "        \n",
    "        if (t % 1 == 0) or (t == T - 1):\n",
    "            error.append(errorF(X, M))\n",
    "            nuc.append(la.norm(X, 'nuc'))\n",
    "            rankX.append(la.matrix_rank(X, tol=5e-2))\n",
    "    \n",
    "    return X, error, rankX, nuc"
   ]
  },
  {
   "cell_type": "code",
   "execution_count": 8,
   "metadata": {
    "collapsed": true
   },
   "outputs": [],
   "source": [
    "X0, error0, rankX0, nuc0 = descent(subgradient, X, M, O, 1)"
   ]
  },
  {
   "cell_type": "code",
   "execution_count": 9,
   "metadata": {
    "collapsed": true
   },
   "outputs": [],
   "source": [
    "X1, error1, rankX1, nuc1 = descent(subgradient, X, M, O, 0)"
   ]
  },
  {
   "cell_type": "code",
   "execution_count": 11,
   "metadata": {},
   "outputs": [
    {
     "data": {
      "text/plain": [
       "<matplotlib.legend.Legend at 0x113cb5cf8>"
      ]
     },
     "execution_count": 11,
     "metadata": {},
     "output_type": "execute_result"
    },
    {
     "data": {
      "image/png": "[encoded data removed]",
      "text/plain": [
       "<matplotlib.figure.Figure at 0x113c38ac8>"
      ]
     },
     "metadata": {},
     "output_type": "display_data"
    }
   ],
   "source": [
    "%matplotlib inline\n",
    "\n",
    "plt.plot(error0, label=\"1/k\")\n",
    "plt.plot(error1, label=\"1/sqrt(k)\")\n",
    "plt.ylabel(\"Frobenius Error\")\n",
    "plt.xlabel(\"# of Iterations\")\n",
    "plt.legend()"
   ]
  },
  {
   "cell_type": "code",
   "execution_count": 12,
   "metadata": {},
   "outputs": [
    {
     "data": {
      "text/plain": [
       "<matplotlib.legend.Legend at 0x113dbfb00>"
      ]
     },
     "execution_count": 12,
     "metadata": {},
     "output_type": "execute_result"
    },
    {
     "data": {
      "image/png": "[encoded data removed]",
      "text/plain": [
       "<matplotlib.figure.Figure at 0x113c93048>"
      ]
     },
     "metadata": {},
     "output_type": "display_data"
    }
   ],
   "source": [
    "%matplotlib inline\n",
    "\n",
    "plt.plot(rankX0, label=\"1/k\")\n",
    "plt.plot(rankX1, label=\"1/sqrt(k)\")\n",
    "plt.ylabel(\"Rank of X\")\n",
    "plt.xlabel(\"# of iterations\")\n",
    "plt.legend()"
   ]
  },
  {
   "cell_type": "markdown",
   "metadata": {},
   "source": [
    "The rank is decreasing as X approaches the true solution of M. "
   ]
  },
  {
   "cell_type": "code",
   "execution_count": 13,
   "metadata": {},
   "outputs": [
    {
     "data": {
      "text/plain": [
       "<matplotlib.legend.Legend at 0x113ecdc88>"
      ]
     },
     "execution_count": 13,
     "metadata": {},
     "output_type": "execute_result"
    },
    {
     "data": {
      "image/png": "[encoded data removed]",
      "text/plain": [
       "<matplotlib.figure.Figure at 0x113d02208>"
      ]
     },
     "metadata": {},
     "output_type": "display_data"
    }
   ],
   "source": [
    "%matplotlib inline\n",
    "\n",
    "plt.plot(nuc0, label=\"1/k\")\n",
    "plt.plot(nuc1, label=\"1/sqrt(k)\")\n",
    "plt.xlabel(\"Nuclear Norm of X\")\n",
    "plt.ylabel(\"# of iterations\")\n",
    "plt.legend()"
   ]
  },
  {
   "cell_type": "code",
   "execution_count": null,
   "metadata": {
    "collapsed": true
   },
   "outputs": [],
   "source": []
  }
 ],
 "metadata": {
  "kernelspec": {
   "display_name": "Python 3",
   "language": "python",
   "name": "python3"
  },
  "language_info": {
   "codemirror_mode": {
    "name": "ipython",
    "version": 3
   },
   "file_extension": ".py",
   "mimetype": "text/x-python",
   "name": "python",
   "nbconvert_exporter": "python",
   "pygments_lexer": "ipython3",
   "version": "3.6.3"
  }
 },
 "nbformat": 4,
 "nbformat_minor": 2
}
