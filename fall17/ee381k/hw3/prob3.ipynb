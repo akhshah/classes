{
 "cells": [
  {
   "cell_type": "code",
   "execution_count": 1,
   "metadata": {
    "collapsed": true
   },
   "outputs": [],
   "source": [
    "import numpy as np\n",
    "import numpy.linalg as la\n",
    "import numpy.random as rn\n",
    "import matplotlib.pyplot as plt"
   ]
  },
  {
   "cell_type": "code",
   "execution_count": 2,
   "metadata": {
    "collapsed": true
   },
   "outputs": [],
   "source": [
    "X = np.load(\"X.npy\")\n",
    "y = np.load(\"y.npy\")"
   ]
  },
  {
   "cell_type": "code",
   "execution_count": 3,
   "metadata": {
    "collapsed": true
   },
   "outputs": [],
   "source": [
    "def proj(v, z=1):\n",
    "    n = v.shape[0]\n",
    "    # check if v is already in the simplex\n",
    "    if (np.sum(v) == z) and (v >= 0).all():\n",
    "        return v\n",
    "    \n",
    "    u = np.sort(v)[::-1]\n",
    "    \n",
    "    usum = 0\n",
    "    rho = 0\n",
    "    for j in range(n):\n",
    "        usum += u[j]\n",
    "        cond = u[j] - 1/(j+1)*(usum - z) > 0\n",
    "        \n",
    "        if cond:\n",
    "            rho = j\n",
    "    \n",
    "    theta = 1/(rho+1)*(np.sum(u[0:rho+1]) - z)\n",
    "    \n",
    "    w = (v - theta).clip(min=0)\n",
    "    \n",
    "    return w"
   ]
  },
  {
   "cell_type": "code",
   "execution_count": 4,
   "metadata": {
    "collapsed": true
   },
   "outputs": [],
   "source": [
    "def projsubgrad(beta, X, y, t):\n",
    "    eta = 1e-4/np.sqrt(t+1)\n",
    "\n",
    "    v = beta - eta*np.dot(X.T, np.sign(np.dot(X, beta)-y))\n",
    "\n",
    "    beta = proj(v)\n",
    "    \n",
    "    return beta"
   ]
  },
  {
   "cell_type": "code",
   "execution_count": 5,
   "metadata": {
    "collapsed": true
   },
   "outputs": [],
   "source": [
    "def mirror(beta, X, y, t):\n",
    "    eta = 1e-2/np.sqrt(t+1)\n",
    "    \n",
    "    beta_phi = np.zeros(beta.shape[0])\n",
    "    for i in range(beta.shape[0]):\n",
    "        if beta[i] == 0:\n",
    "            beta_phi[i] = 1\n",
    "        else:\n",
    "            beta_phi[i] = np.log(beta[i]) + 1\n",
    "\n",
    "    v_phi = beta_phi - eta*np.dot(X.T, np.sign(np.dot(X, beta)-y))\n",
    "    v = np.exp(v_phi - 1)\n",
    "    \n",
    "    beta = v/np.sum(np.abs(v))\n",
    "    return beta"
   ]
  },
  {
   "cell_type": "code",
   "execution_count": 6,
   "metadata": {
    "collapsed": true
   },
   "outputs": [],
   "source": [
    "def descent(update, X, y, T=int(1e3)):\n",
    "    beta = np.zeros(X.shape[1])\n",
    "    obj = []\n",
    "    for i in range(beta.shape[0]):\n",
    "        beta[i] = i\n",
    "    \n",
    "    beta = beta/np.sum(beta)\n",
    "    for t in range(T):\n",
    "        beta = update(beta, X, y, t)\n",
    "        \n",
    "        if(t % 1 == 0) or (t == T - 1):\n",
    "            obj.append(la.norm(np.dot(X, beta) - y, 1))\n",
    "            \n",
    "            assert not np.isnan(obj[-1])\n",
    "            \n",
    "    return beta, obj"
   ]
  },
  {
   "cell_type": "code",
   "execution_count": 7,
   "metadata": {
    "collapsed": true
   },
   "outputs": [],
   "source": [
    "beta_sg, obj_sg = descent(projsubgrad, X, y)"
   ]
  },
  {
   "cell_type": "code",
   "execution_count": 8,
   "metadata": {
    "collapsed": true
   },
   "outputs": [],
   "source": [
    "beta_md, obj_md = descent(mirror, X, y)"
   ]
  },
  {
   "cell_type": "code",
   "execution_count": 12,
   "metadata": {},
   "outputs": [
    {
     "data": {
      "text/plain": [
       "<matplotlib.legend.Legend at 0x10bba1e48>"
      ]
     },
     "execution_count": 12,
     "metadata": {},
     "output_type": "execute_result"
    },
    {
     "data": {
      "image/png": "[encoded data removed]",
      "text/plain": [
       "<matplotlib.figure.Figure at 0x10b917940>"
      ]
     },
     "metadata": {},
     "output_type": "display_data"
    }
   ],
   "source": [
    "%matplotlib inline\n",
    "\n",
    "plt.plot(obj_sg, label=\"Subgradient\")\n",
    "plt.plot(obj_md, label=\"Mirror Descent\")\n",
    "plt.xlabel(\"# of Iterations\")\n",
    "plt.ylabel(\"Objective Value\")\n",
    "plt.legend()"
   ]
  },
  {
   "cell_type": "code",
   "execution_count": 10,
   "metadata": {},
   "outputs": [
    {
     "name": "stdout",
     "output_type": "stream",
     "text": [
      "[ 0.04692978  0.06189688  0.05171955  0.04751103  0.03632782  0.05557535\n",
      "  0.03752663  0.07696163  0.0828334   0.03283647  0.06810513  0.04498984\n",
      "  0.04913243  0.07917836  0.0062244   0.00748274  0.00165853  0.07188799\n",
      "  0.06654852  0.07467352]\n"
     ]
    }
   ],
   "source": [
    "print(beta_sg)"
   ]
  },
  {
   "cell_type": "code",
   "execution_count": 11,
   "metadata": {},
   "outputs": [
    {
     "name": "stdout",
     "output_type": "stream",
     "text": [
      "[ 0.04692454  0.06186973  0.05160668  0.04748676  0.03631284  0.05556176\n",
      "  0.03749818  0.07696356  0.08281798  0.03284394  0.06823133  0.04506261\n",
      "  0.0491562   0.07922241  0.00622744  0.00746525  0.00165623  0.07178647\n",
      "  0.06660213  0.07470398]\n"
     ]
    }
   ],
   "source": [
    "print(beta_md)"
   ]
  },
  {
   "cell_type": "code",
   "execution_count": null,
   "metadata": {
    "collapsed": true
   },
   "outputs": [],
   "source": []
  }
 ],
 "metadata": {
  "kernelspec": {
   "display_name": "Python 3",
   "language": "python",
   "name": "python3"
  },
  "language_info": {
   "codemirror_mode": {
    "name": "ipython",
    "version": 3
   },
   "file_extension": ".py",
   "mimetype": "text/x-python",
   "name": "python",
   "nbconvert_exporter": "python",
   "pygments_lexer": "ipython3",
   "version": "3.6.3"
  }
 },
 "nbformat": 4,
 "nbformat_minor": 2
}
