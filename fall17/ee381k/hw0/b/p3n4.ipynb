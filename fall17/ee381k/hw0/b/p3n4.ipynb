{
 "cells": [
  {
   "cell_type": "markdown",
   "metadata": {},
   "source": [
    "# Problem 3a)"
   ]
  },
  {
   "cell_type": "code",
   "execution_count": 1,
   "metadata": {
    "collapsed": true
   },
   "outputs": [],
   "source": [
    "import numpy as np\n",
    "np.random.seed(1)\n",
    "\n",
    "X1 = np.random.randn(50, 500)\n",
    "X2 = np.random.randn(500, 5000)\n",
    "X3 = np.random.randn(5000, 50000)\n",
    "\n",
    "beta1 = np.zeros((500,1))\n",
    "beta2 = np.zeros((5000,1))\n",
    "beta3 = np.zeros((50000,1))\n",
    "\n",
    "k1 = np.random.randint(501, size=5)\n",
    "k2 = np.random.randint(5001, size=5)\n",
    "k3 = np.random.randint(50001, size=5)\n",
    "\n",
    "for pos in k1:\n",
    "    beta1[pos] = 1.\n",
    "\n",
    "for pos in k2:\n",
    "    beta2[pos] = 1.\n",
    "\n",
    "for pos in k3:\n",
    "    beta3[pos] = 1.\n",
    "    \n",
    "y1 = X1.dot(beta1) + np.random.randn(50,1)*np.sqrt(0.1)\n",
    "y2 = X2.dot(beta2) + np.random.randn(500,1)*np.sqrt(0.1)\n",
    "y3 = X3.dot(beta3) + np.random.randn(5000,1)*np.sqrt(0.1)\n",
    "\n",
    "Xtest1 = np.random.randn(100, 500)\n",
    "Xtest2 = np.random.randn(100, 5000)\n",
    "Xtest3 = np.random.randn(100, 50000)\n",
    "\n",
    "ytest1 = Xtest1.dot(beta1) + np.random.randn(100,1)*np.sqrt(0.1)\n",
    "ytest2 = Xtest2.dot(beta2) + np.random.randn(100,1)*np.sqrt(0.1)\n",
    "ytest3 = Xtest3.dot(beta3) + np.random.randn(100,1)*np.sqrt(0.1)"
   ]
  },
  {
   "cell_type": "markdown",
   "metadata": {},
   "source": [
    "# Part b) "
   ]
  },
  {
   "cell_type": "markdown",
   "metadata": {},
   "source": [
    "Small Matrix:"
   ]
  },
  {
   "cell_type": "code",
   "execution_count": 2,
   "metadata": {},
   "outputs": [
    {
     "name": "stdout",
     "output_type": "stream",
     "text": [
      "\n",
      "ECOS 2.0.4 - (C) embotech GmbH, Zurich Switzerland, 2012-15. Web: www.embotech.com/ECOS\n",
      "\n",
      "It     pcost       dcost      gap   pres   dres    k/t    mu     step   sigma     IR    |   BT\n",
      " 0  +3.343e-17  -7.692e-03  +7e+01  5e-01  1e-03  1e+00  3e+01    ---    ---    1  1  - |  -  - \n",
      " 1  -1.050e-02  -7.429e-03  +7e-01  9e-03  1e-05  1e-02  4e-01  0.9890  1e-04   1  1  1 |  0  0\n",
      " 2  -1.389e-03  -1.343e-03  +9e-03  1e-04  1e-07  2e-04  4e-03  0.9883  1e-04   1  2  2 |  0  0\n",
      " 3  -1.604e-05  -1.511e-05  +1e-04  1e-06  1e-09  2e-06  5e-05  0.9890  1e-04   1  1  1 |  0  0\n",
      " 4  -1.832e-07  -1.684e-07  +1e-06  1e-08  2e-11  3e-08  5e-07  0.9890  1e-04   1  1  1 |  0  0\n",
      " 5  -2.090e-09  -1.877e-09  +1e-08  1e-10  2e-13  4e-10  6e-09  0.9890  1e-04   1  1  1 |  0  0\n",
      " 6  -2.382e-11  -2.092e-11  +1e-10  2e-12  2e-15  5e-12  7e-11  0.9890  1e-04   1  1  1 |  0  0\n",
      "\n",
      "OPTIMAL (within feastol=1.6e-12, reltol=5.4e+00, abstol=1.3e-10).\n",
      "Runtime: 0.030883 seconds.\n",
      "\n"
     ]
    }
   ],
   "source": [
    "from cvxpy import *\n",
    "beta1_star = Variable(500)\n",
    "objective = Minimize(sum_squares(X1*beta1_star - y1))\n",
    "prob = Problem(objective)\n",
    "\n",
    "result = prob.solve(verbose=True)"
   ]
  },
  {
   "cell_type": "markdown",
   "metadata": {},
   "source": [
    "Medium Matrix"
   ]
  },
  {
   "cell_type": "code",
   "execution_count": 3,
   "metadata": {},
   "outputs": [
    {
     "name": "stdout",
     "output_type": "stream",
     "text": [
      "\n",
      "ECOS 2.0.4 - (C) embotech GmbH, Zurich Switzerland, 2012-15. Web: www.embotech.com/ECOS\n",
      "\n",
      "It     pcost       dcost      gap   pres   dres    k/t    mu     step   sigma     IR    |   BT\n",
      " 0  +2.367e-17  -7.207e-04  +7e+02  5e-01  3e-05  1e+00  3e+02    ---    ---    1  1  - |  -  - \n",
      " 1  -3.504e-02  -7.429e-04  +8e+00  1e-02  4e-07  5e-02  4e+00  0.9890  1e-04   1  1  1 |  0  0\n",
      " 2  -1.360e-03  -6.052e-04  +8e-02  1e-04  4e-09  9e-04  4e-02  0.9890  1e-04   1  1  1 |  0  0\n",
      " 3  -2.492e-05  -1.232e-05  +9e-04  1e-06  4e-11  1e-05  5e-04  0.9890  1e-04   1  2  2 |  0  0\n",
      " 4  -3.449e-07  -1.591e-07  +1e-05  1e-08  5e-13  2e-07  5e-06  0.9890  1e-04   1  1  1 |  0  0\n",
      " 5  -4.579e-09  -2.012e-09  +1e-07  1e-10  5e-15  3e-09  6e-08  0.9890  1e-04   1  1  1 |  0  0\n",
      " 6  -5.905e-11  -2.503e-11  +1e-09  1e-12  6e-17  4e-11  7e-10  0.9890  1e-04   1  1  1 |  0  0\n",
      "\n",
      "OPTIMAL (within feastol=1.5e-12, reltol=2.2e+01, abstol=1.3e-09).\n",
      "Runtime: 16.789016 seconds.\n",
      "\n"
     ]
    }
   ],
   "source": [
    "from cvxpy import *\n",
    "beta2_star = Variable(5000)\n",
    "objective = Minimize(sum_squares(X2*beta2_star - y2))\n",
    "prob = Problem(objective)\n",
    "\n",
    "result = prob.solve(verbose=True)"
   ]
  },
  {
   "cell_type": "markdown",
   "metadata": {},
   "source": [
    "Large Matrix"
   ]
  },
  {
   "cell_type": "code",
   "execution_count": null,
   "metadata": {
    "collapsed": true
   },
   "outputs": [],
   "source": [
    "from cvxpy import *\n",
    "beta3_star = Variable(50000)\n",
    "objective = Minimize(sum_squares(X3*beta3_star - y3))\n",
    "prob = Problem(objective)\n",
    "\n",
    "result = prob.solve(verbose=True)"
   ]
  },
  {
   "cell_type": "markdown",
   "metadata": {},
   "source": [
    "CVXPY is taking longer than 15 minutes for the Large Matrix case."
   ]
  },
  {
   "cell_type": "markdown",
   "metadata": {},
   "source": [
    "### Plots for Small Matrix"
   ]
  },
  {
   "cell_type": "code",
   "execution_count": 4,
   "metadata": {},
   "outputs": [
    {
     "data": {
      "text/plain": [
       "<matplotlib.text.Text at 0x187e1d940>"
      ]
     },
     "execution_count": 4,
     "metadata": {},
     "output_type": "execute_result"
    },
    {
     "data": {
      "image/png": "[encoded data removed]",
      "text/plain": [
       "<matplotlib.figure.Figure at 0x10bebceb8>"
      ]
     },
     "metadata": {},
     "output_type": "display_data"
    }
   ],
   "source": [
    "import matplotlib.pyplot as plt\n",
    "%matplotlib inline\n",
    "fig, ax = plt.subplots(1, 2)\n",
    "ax[0].plot(beta1)\n",
    "ax[0].set_title(\"True Beta\")\n",
    "ax[1].plot(beta1_star.value)\n",
    "ax[1].set_title(\"Beta Star\")"
   ]
  },
  {
   "cell_type": "markdown",
   "metadata": {},
   "source": [
    "### Plots for Medium Matrix"
   ]
  },
  {
   "cell_type": "code",
   "execution_count": 5,
   "metadata": {},
   "outputs": [
    {
     "data": {
      "text/plain": [
       "<matplotlib.text.Text at 0x1880e21d0>"
      ]
     },
     "execution_count": 5,
     "metadata": {},
     "output_type": "execute_result"
    },
    {
     "data": {
      "image/png": "[encoded data removed]",
      "text/plain": [
       "<matplotlib.figure.Figure at 0x10581d908>"
      ]
     },
     "metadata": {},
     "output_type": "display_data"
    }
   ],
   "source": [
    "%matplotlib inline\n",
    "fig, ax = plt.subplots(1,2)\n",
    "ax[0].plot(beta2)\n",
    "ax[0].set_title(\"True Beta\")\n",
    "ax[1].plot(beta2_star.value)\n",
    "ax[1].set_title(\"Beta Star\")"
   ]
  },
  {
   "cell_type": "markdown",
   "metadata": {},
   "source": [
    "### Regression Error"
   ]
  },
  {
   "cell_type": "code",
   "execution_count": 7,
   "metadata": {},
   "outputs": [
    {
     "name": "stdout",
     "output_type": "stream",
     "text": [
      "Regression Error for Small Matrix =  4.15178231729e-14\n",
      "Regression Error for Medium Matrix =  1.14589974003e-13\n"
     ]
    }
   ],
   "source": [
    "RE1 = np.linalg.norm(X1.dot(beta1_star.value) - y1)\n",
    "RE2 = np.linalg.norm(X2.dot(beta2_star.value) - y2)\n",
    "print(\"Regression Error for Small Matrix = \", RE1)\n",
    "print(\"Regression Error for Medium Matrix = \", RE2)"
   ]
  },
  {
   "cell_type": "markdown",
   "metadata": {},
   "source": [
    "Regression Error for the Large Matrix was not calculated because it was not completing. "
   ]
  },
  {
   "cell_type": "markdown",
   "metadata": {},
   "source": [
    "### Testing Error"
   ]
  },
  {
   "cell_type": "code",
   "execution_count": 8,
   "metadata": {},
   "outputs": [
    {
     "name": "stdout",
     "output_type": "stream",
     "text": [
      "Testing Error for Small Matrix =  21.2050585622\n",
      "Testing Error for Medium Matrix =  23.1729309551\n"
     ]
    }
   ],
   "source": [
    "TE1 = np.linalg.norm(Xtest1.dot(beta1_star.value) - ytest1)\n",
    "TE2 = np.linalg.norm(Xtest2.dot(beta2_star.value) - ytest2)\n",
    "\n",
    "print(\"Testing Error for Small Matrix = \", TE1)\n",
    "print(\"Testing Error for Medium Matrix = \", TE2)"
   ]
  },
  {
   "cell_type": "markdown",
   "metadata": {},
   "source": [
    "# Part c) LASSO"
   ]
  },
  {
   "cell_type": "code",
   "execution_count": 9,
   "metadata": {},
   "outputs": [
    {
     "name": "stdout",
     "output_type": "stream",
     "text": [
      "\n",
      "ECOS 2.0.4 - (C) embotech GmbH, Zurich Switzerland, 2012-15. Web: www.embotech.com/ECOS\n",
      "\n",
      "It     pcost       dcost      gap   pres   dres    k/t    mu     step   sigma     IR    |   BT\n",
      " 0  -2.327e-17  -9.847e-03  +1e+03  1e+00  5e-01  1e+00  1e+00    ---    ---    1  1  - |  -  - \n",
      " 1  +2.692e-01  +2.647e-01  +6e+01  3e-02  2e-02  4e-02  6e-02  0.9560  1e-03   1  1  1 |  0  0\n",
      " 2  +4.570e-02  +3.996e-02  +1e+01  4e-03  2e-03  5e-04  1e-02  0.8088  8e-03   1  1  1 |  0  0\n",
      " 3  +7.173e-03  +7.431e-03  +1e+01  6e-04  3e-05  9e-04  1e-02  0.3796  7e-01   1  1  1 |  0  0\n",
      " 4  +6.523e-03  +6.541e-03  +5e+00  2e-04  1e-05  3e-04  5e-03  0.7302  2e-01   1  1  1 |  0  0\n",
      " 5  +5.759e-03  +5.704e-03  +2e+00  4e-05  4e-06  5e-05  2e-03  0.9890  4e-01   1  1  1 |  0  0\n",
      " 6  +5.657e-03  +5.637e-03  +8e-01  1e-05  1e-06  2e-05  8e-04  0.6161  2e-02   1  1  1 |  0  0\n",
      " 7  +5.618e-03  +5.608e-03  +2e-01  4e-06  4e-07  2e-06  2e-04  0.9890  3e-01   1  1  1 |  0  0\n",
      " 8  +5.574e-03  +5.571e-03  +8e-02  1e-06  1e-07  5e-07  8e-05  0.7206  5e-02   1  1  1 |  0  0\n",
      " 9  +5.563e-03  +5.562e-03  +3e-02  5e-07  6e-08  2e-07  3e-05  0.7635  2e-01   1  1  1 |  0  0\n",
      "10  +5.556e-03  +5.556e-03  +9e-03  2e-07  2e-08  4e-08  9e-06  0.8025  1e-01   1  1  1 |  0  0\n",
      "11  +5.554e-03  +5.554e-03  +3e-03  5e-08  5e-09  1e-08  3e-06  0.7252  8e-02   1  1  1 |  0  0\n",
      "12  +5.553e-03  +5.553e-03  +2e-04  3e-09  3e-10  7e-10  2e-07  0.9679  2e-02   1  1  1 |  0  0\n",
      "13  +5.553e-03  +5.553e-03  +6e-05  1e-09  1e-10  2e-10  6e-08  0.6861  7e-02   1  1  1 |  0  0\n",
      "14  +5.553e-03  +5.553e-03  +1e-06  2e-11  2e-12  5e-12  1e-09  0.9890  9e-03   1  1  1 |  0  0\n",
      "15  +5.553e-03  +5.553e-03  +1e-08  2e-13  2e-14  5e-14  1e-11  0.9890  1e-04   2  1  1 |  0  0\n",
      "16  +5.553e-03  +5.553e-03  +1e-10  2e-15  3e-16  6e-16  1e-13  0.9890  1e-04   1  1  1 |  0  0\n",
      "\n",
      "OPTIMAL (within feastol=2.4e-15, reltol=2.6e-08, abstol=1.4e-10).\n",
      "Runtime: 0.109486 seconds.\n",
      "\n"
     ]
    }
   ],
   "source": [
    "from cvxpy import *\n",
    "beta1_star = Variable(500)\n",
    "lamda = 0.001\n",
    "objective = Minimize(sum_squares(X1*beta1_star - y1) + lamda*norm(beta1_star, 1))\n",
    "prob = Problem(objective)\n",
    "\n",
    "result = prob.solve(verbose=True)"
   ]
  },
  {
   "cell_type": "code",
   "execution_count": 10,
   "metadata": {},
   "outputs": [
    {
     "name": "stdout",
     "output_type": "stream",
     "text": [
      "\n",
      "ECOS 2.0.4 - (C) embotech GmbH, Zurich Switzerland, 2012-15. Web: www.embotech.com/ECOS\n",
      "\n",
      "It     pcost       dcost      gap   pres   dres    k/t    mu     step   sigma     IR    |   BT\n",
      " 0  -1.216e-17  -1.212e-03  +1e+04  1e+00  2e-01  1e+00  1e+00    ---    ---    1  1  - |  -  - \n",
      " 1  +3.779e-01  +3.677e-01  +6e+02  3e-02  1e-02  4e-02  6e-02  0.9479  6e-04   1  1  1 |  0  0\n",
      " 2  +7.026e-02  +6.310e-02  +1e+02  5e-03  1e-03  7e-04  1e-02  0.7855  1e-02   1  1  2 |  0  0\n",
      " 3  +2.103e-02  +2.070e-02  +1e+02  1e-03  5e-05  1e-03  1e-02  0.1221  7e-01   1  1  1 |  0  0\n",
      " 4  +7.293e-03  +7.576e-03  +7e+01  3e-04  5e-06  7e-04  7e-03  0.9890  5e-01   1  1  1 |  0  0\n",
      " 5  +6.686e-03  +6.720e-03  +1e+01  3e-05  6e-07  8e-05  1e-03  0.8546  1e-02   1  1  1 |  0  0\n",
      " 6  +7.860e-03  +7.870e-03  +7e+00  2e-05  3e-07  4e-05  7e-04  0.5698  2e-01   1  1  1 |  0  0\n",
      " 7  +8.191e-03  +8.188e-03  +3e+00  9e-06  2e-07  9e-06  3e-04  0.7864  3e-01   1  1  1 |  0  0\n",
      " 8  +8.369e-03  +8.366e-03  +1e+00  4e-06  7e-08  2e-06  1e-04  0.7805  3e-01   1  1  1 |  0  0\n",
      " 9  +8.447e-03  +8.445e-03  +7e-01  2e-06  3e-08  8e-07  7e-05  0.6450  2e-01   1  1  1 |  0  0\n",
      "10  +8.479e-03  +8.478e-03  +3e-01  9e-07  1e-08  2e-07  3e-05  0.8317  3e-01   1  1  1 |  0  0\n",
      "11  +8.497e-03  +8.497e-03  +1e-01  4e-07  6e-09  6e-08  1e-05  0.7382  2e-01   1  1  1 |  0  0\n",
      "12  +8.504e-03  +8.504e-03  +6e-02  2e-07  3e-09  2e-08  6e-06  0.8208  3e-01   1  1  1 |  0  0\n",
      "13  +8.507e-03  +8.507e-03  +2e-02  7e-08  1e-09  7e-09  2e-06  0.7194  2e-01   1  1  1 |  0  0\n",
      "14  +8.508e-03  +8.508e-03  +9e-03  3e-08  4e-10  2e-09  9e-07  0.8787  3e-01   1  1  1 |  0  0\n",
      "15  +8.508e-03  +8.508e-03  +4e-03  1e-08  2e-10  9e-10  4e-07  0.6950  1e-01   1  1  1 |  0  0\n",
      "16  +8.509e-03  +8.509e-03  +2e-03  5e-09  9e-11  5e-10  2e-07  0.7043  3e-01   1  1  1 |  0  0\n",
      "17  +8.509e-03  +8.509e-03  +5e-04  1e-09  2e-11  1e-10  5e-08  0.8095  5e-02   1  1  1 |  0  0\n",
      "18  +8.509e-03  +8.509e-03  +2e-04  5e-10  9e-12  5e-11  2e-08  0.6033  6e-02   1  1  1 |  0  0\n",
      "19  +8.509e-03  +8.509e-03  +3e-05  1e-10  2e-12  9e-12  3e-09  0.8693  6e-02   1  1  1 |  0  0\n",
      "20  +8.509e-03  +8.509e-03  +7e-06  2e-11  3e-13  2e-12  7e-10  0.8155  7e-03   2  1  1 |  0  0\n",
      "21  +8.509e-03  +8.509e-03  +6e-07  2e-12  3e-14  2e-13  6e-11  0.9212  2e-02   1  1  1 |  0  0\n",
      "22  +8.509e-03  +8.509e-03  +1e-08  3e-14  6e-16  3e-15  1e-12  0.9814  1e-04   2  1  1 |  0  0\n",
      "23  +8.509e-03  +8.509e-03  +4e-09  1e-14  2e-16  1e-15  4e-13  0.9890  3e-01   2  1  1 |  0  0\n",
      "\n",
      "OPTIMAL (within feastol=1.2e-14, reltol=5.0e-07, abstol=4.3e-09).\n",
      "Runtime: 158.530686 seconds.\n",
      "\n"
     ]
    }
   ],
   "source": [
    "from cvxpy import *\n",
    "beta2_star = Variable(5000)\n",
    "lamda = 0.001\n",
    "objective = Minimize(sum_squares(X2*beta2_star - y2) + lamda*norm(beta2_star, 1))\n",
    "prob = Problem(objective)\n",
    "\n",
    "result = prob.solve(verbose=True)"
   ]
  },
  {
   "cell_type": "code",
   "execution_count": null,
   "metadata": {
    "collapsed": true
   },
   "outputs": [],
   "source": [
    "from cvxpy import *\n",
    "beta3_star = Variable(50000)\n",
    "lamda = 0.001\n",
    "objective = Minimize(sum_squares(X3*beta3_star - y3) + lamda*norm(beta3_star, 1))\n",
    "prob = Problem(objective)\n",
    "\n",
    "result = prob.solve(verbose=True)"
   ]
  },
  {
   "cell_type": "markdown",
   "metadata": {},
   "source": [
    "### Plots for Small Matrix"
   ]
  },
  {
   "cell_type": "code",
   "execution_count": 11,
   "metadata": {},
   "outputs": [
    {
     "data": {
      "text/plain": [
       "<matplotlib.text.Text at 0x10c47d518>"
      ]
     },
     "execution_count": 11,
     "metadata": {},
     "output_type": "execute_result"
    },
    {
     "data": {
      "image/png": "[encoded data removed]",
      "text/plain": [
       "<matplotlib.figure.Figure at 0x187f212e8>"
      ]
     },
     "metadata": {},
     "output_type": "display_data"
    }
   ],
   "source": [
    "import matplotlib.pyplot as plt\n",
    "%matplotlib inline\n",
    "fig, ax = plt.subplots(1, 2)\n",
    "ax[0].plot(beta1)\n",
    "ax[0].set_title(\"True Beta\")\n",
    "ax[1].plot(beta1_star.value)\n",
    "ax[1].set_title(\"Beta Star\")"
   ]
  },
  {
   "cell_type": "markdown",
   "metadata": {},
   "source": [
    "### Plots for Medium Matrix"
   ]
  },
  {
   "cell_type": "code",
   "execution_count": 12,
   "metadata": {},
   "outputs": [
    {
     "data": {
      "text/plain": [
       "<matplotlib.text.Text at 0x18561c6a0>"
      ]
     },
     "execution_count": 12,
     "metadata": {},
     "output_type": "execute_result"
    },
    {
     "data": {
      "image/png": "[encoded data removed]",
      "text/plain": [
       "<matplotlib.figure.Figure at 0x1854e3c50>"
      ]
     },
     "metadata": {},
     "output_type": "display_data"
    }
   ],
   "source": [
    "%matplotlib inline\n",
    "fig, ax = plt.subplots(1,2)\n",
    "ax[0].plot(beta2)\n",
    "ax[0].set_title(\"True Beta\")\n",
    "ax[1].plot(beta2_star.value)\n",
    "ax[1].set_title(\"Beta Star\")"
   ]
  },
  {
   "cell_type": "markdown",
   "metadata": {},
   "source": [
    "### Regression Error"
   ]
  },
  {
   "cell_type": "code",
   "execution_count": 18,
   "metadata": {},
   "outputs": [
    {
     "name": "stdout",
     "output_type": "stream",
     "text": [
      "Regression Error for Small Matrix =  2.28906182223\n",
      "Regression Error for Medium Matrix =  0.000304261586821\n"
     ]
    }
   ],
   "source": [
    "RE1 = np.linalg.norm(X1.dot(beta1_star.value) - y1)\n",
    "RE2 = np.linalg.norm(X2.dot(beta2_star.value) - y2)\n",
    "print(\"Regression Error for Small Matrix = \", RE1)\n",
    "print(\"Regression Error for Medium Matrix = \", RE2)"
   ]
  },
  {
   "cell_type": "markdown",
   "metadata": {},
   "source": [
    "### Testing Error"
   ]
  },
  {
   "cell_type": "code",
   "execution_count": 19,
   "metadata": {},
   "outputs": [
    {
     "name": "stdout",
     "output_type": "stream",
     "text": [
      "Testing Error for Small Matrix =  6.47569229721\n",
      "Testing Error for Medium Matrix =  3.73830468403\n"
     ]
    }
   ],
   "source": [
    "TE1 = np.linalg.norm(Xtest1.dot(beta1_star.value) - ytest1)\n",
    "TE2 = np.linalg.norm(Xtest2.dot(beta2_star.value) - ytest2)\n",
    "\n",
    "print(\"Testing Error for Small Matrix = \", TE1)\n",
    "print(\"Testing Error for Medium Matrix = \", TE2)"
   ]
  },
  {
   "cell_type": "markdown",
   "metadata": {},
   "source": [
    "$\\lambda = 0.001$ is not a good solution and provides a faster result, but the same one. Below is the solution for $\\lambda = 10$. "
   ]
  },
  {
   "cell_type": "code",
   "execution_count": 15,
   "metadata": {},
   "outputs": [
    {
     "name": "stdout",
     "output_type": "stream",
     "text": [
      "\n",
      "ECOS 2.0.4 - (C) embotech GmbH, Zurich Switzerland, 2012-15. Web: www.embotech.com/ECOS\n",
      "\n",
      "It     pcost       dcost      gap   pres   dres    k/t    mu     step   sigma     IR    |   BT\n",
      " 0  -2.327e-17  -9.847e-03  +8e+03  1e+00  1e-01  1e+00  8e+00    ---    ---    1  1  - |  -  - \n",
      " 1  +1.043e+00  +1.181e+00  +2e+03  7e-01  2e-02  3e-01  2e+00  0.8190  2e-02   1  2  2 |  0  0\n",
      " 2  +3.232e+01  +3.292e+01  +1e+03  6e-01  1e-02  7e-01  1e+00  0.7209  8e-01   2  2  2 |  0  0\n",
      " 3  +3.414e+01  +3.466e+01  +1e+03  6e-01  1e-02  6e-01  1e+00  0.2887  4e-01   2  2  2 |  0  0\n",
      " 4  +2.627e+01  +2.676e+01  +8e+02  6e-01  8e-03  6e-01  8e-01  0.7506  7e-01   2  2  2 |  0  0\n",
      " 5  +3.773e+01  +3.800e+01  +4e+02  4e-01  4e-03  3e-01  4e-01  0.4777  4e-02   2  2  2 |  0  0\n",
      " 6  +3.050e+01  +3.076e+01  +4e+02  3e-01  4e-03  3e-01  4e-01  0.1163  9e-01   2  2  2 |  0  0\n",
      " 7  +3.695e+01  +3.711e+01  +3e+02  2e-01  2e-03  2e-01  3e-01  0.6111  3e-01   2  2  2 |  0  0\n",
      " 8  +4.002e+01  +4.011e+01  +2e+02  1e-01  1e-03  1e-01  2e-01  0.6856  5e-01   2  2  2 |  0  0\n",
      " 9  +4.519e+01  +4.523e+01  +8e+01  5e-02  6e-04  6e-02  8e-02  0.6964  2e-01   2  2  2 |  0  0\n",
      "10  +4.773e+01  +4.775e+01  +3e+01  2e-02  3e-04  2e-02  3e-02  0.6426  1e-01   3  3  3 |  0  0\n",
      "11  +4.817e+01  +4.819e+01  +2e+01  1e-02  2e-04  2e-02  2e-02  0.5369  4e-01   2  2  2 |  0  0\n",
      "12  +4.876e+01  +4.877e+01  +1e+01  7e-03  8e-05  9e-03  1e-02  0.6009  2e-01   3  3  3 |  0  0\n",
      "13  +4.896e+01  +4.896e+01  +5e+00  3e-03  3e-05  4e-03  5e-03  0.8260  3e-01   2  2  2 |  0  0\n",
      "14  +4.908e+01  +4.908e+01  +2e+00  1e-03  1e-05  1e-03  2e-03  0.7916  2e-01   3  3  3 |  0  0\n",
      "15  +4.911e+01  +4.911e+01  +3e-01  2e-04  2e-06  2e-04  3e-04  0.9311  9e-02   2  2  2 |  0  0\n",
      "16  +4.911e+01  +4.911e+01  +4e-02  2e-05  3e-07  3e-05  4e-05  0.8696  2e-02   3  3  2 |  0  0\n",
      "17  +4.911e+01  +4.911e+01  +2e-03  1e-06  1e-08  2e-06  2e-06  0.9500  2e-03   3  2  2 |  0  0\n",
      "18  +4.911e+01  +4.911e+01  +7e-05  4e-08  5e-10  5e-08  7e-08  0.9683  2e-03   2  2  2 |  0  0\n",
      "19  +4.911e+01  +4.911e+01  +4e-06  2e-09  3e-11  3e-09  4e-09  0.9382  5e-04   2  2  2 |  0  0\n",
      "20  +4.911e+01  +4.911e+01  +2e-07  3e-10  1e-12  2e-10  2e-10  0.9890  4e-02   3  2  2 |  0  0\n",
      "\n",
      "OPTIMAL (within feastol=2.5e-10, reltol=4.0e-09, abstol=2.0e-07).\n",
      "Runtime: 0.319607 seconds.\n",
      "\n"
     ]
    }
   ],
   "source": [
    "from cvxpy import *\n",
    "beta1_star = Variable(500)\n",
    "lamda = 10\n",
    "objective = Minimize(sum_squares(X1*beta1_star - y1) + lamda*norm(beta1_star, 1))\n",
    "prob = Problem(objective)\n",
    "\n",
    "result = prob.solve(verbose=True)"
   ]
  },
  {
   "cell_type": "code",
   "execution_count": 16,
   "metadata": {},
   "outputs": [
    {
     "data": {
      "text/plain": [
       "<matplotlib.text.Text at 0x10523c0b8>"
      ]
     },
     "execution_count": 16,
     "metadata": {},
     "output_type": "execute_result"
    },
    {
     "data": {
      "image/png": "[encoded data removed]",
      "text/plain": [
       "<matplotlib.figure.Figure at 0x188106780>"
      ]
     },
     "metadata": {},
     "output_type": "display_data"
    }
   ],
   "source": [
    "import matplotlib.pyplot as plt\n",
    "%matplotlib inline\n",
    "fig, ax = plt.subplots(1, 2)\n",
    "ax[0].plot(beta1)\n",
    "ax[0].set_title(\"True Beta\")\n",
    "ax[1].plot(beta1_star.value)\n",
    "ax[1].set_title(\"Beta Star\")"
   ]
  },
  {
   "cell_type": "code",
   "execution_count": 17,
   "metadata": {},
   "outputs": [
    {
     "name": "stdout",
     "output_type": "stream",
     "text": [
      "Regression Error for Small Matrix =  2.28906182223\n"
     ]
    }
   ],
   "source": [
    "RE1 = np.linalg.norm(X1.dot(beta1_star.value) - y1)\n",
    "print(\"Regression Error for Small Matrix = \", RE1)"
   ]
  },
  {
   "cell_type": "markdown",
   "metadata": {},
   "source": [
    "A higher lambda, gives us a better result to a certain extent. When it begins to dominate the original cost function, the regression error can be much higher."
   ]
  },
  {
   "cell_type": "markdown",
   "metadata": {},
   "source": [
    "# Problem 4\n",
    "For the small matrix first:"
   ]
  },
  {
   "cell_type": "code",
   "execution_count": 32,
   "metadata": {},
   "outputs": [
    {
     "name": "stdout",
     "output_type": "stream",
     "text": [
      "44.3 ms ± 4.3 ms per loop (mean ± std. dev. of 7 runs, 10 loops each)\n"
     ]
    }
   ],
   "source": [
    "%%timeit\n",
    "yres = y1\n",
    "y = y1\n",
    "rows, cols = X1.shape\n",
    "X = X1\n",
    "I = []\n",
    "\n",
    "ind = 0\n",
    "\n",
    "for k in range(5):\n",
    "    max_val = 0\n",
    "    for i in range(cols):\n",
    "        tempX = X[:,i].reshape(rows, 1)\n",
    "        tempval = np.transpose(yres).dot(tempX)\n",
    "        if tempval > max_val:\n",
    "            max_val = tempval\n",
    "            ind = i\n",
    "    I = I + [ind]\n",
    "    Xi = np.zeros((rows, len(I)))\n",
    "    l = 0\n",
    "    for idx in I:\n",
    "        for i in range(rows):\n",
    "            Xi[i, l] = X[i, idx]\n",
    "        l = l + 1\n",
    "    beta = Variable(len(I))\n",
    "    obj = Minimize(sum_squares(Xi*beta - y))\n",
    "    prob = Problem(obj)\n",
    "    result = prob.solve(verbose=False)\n",
    "    \n",
    "    # yres = y - Xi*beta.value\n",
    "    yres = y - np.dot(Xi, beta.value)\n",
    "Ism = []\n",
    "Ism = Ism + I\n",
    "\n",
    "beta_star1 = np.zeros((cols,1))\n",
    "l = 0\n",
    "for idx in I:\n",
    "    beta_star1[idx] = beta.value[l]\n",
    "    l = l + 1\n"
   ]
  },
  {
   "cell_type": "code",
   "execution_count": 34,
   "metadata": {
    "collapsed": true
   },
   "outputs": [],
   "source": [
    "yres = y1\n",
    "y = y1\n",
    "rows, cols = X1.shape\n",
    "X = X1\n",
    "I = []\n",
    "\n",
    "ind = 0\n",
    "\n",
    "for k in range(5):\n",
    "    max_val = 0\n",
    "    for i in range(cols):\n",
    "        tempX = X[:,i].reshape(rows, 1)\n",
    "        tempval = np.transpose(yres).dot(tempX)\n",
    "        if tempval > max_val:\n",
    "            max_val = tempval\n",
    "            ind = i\n",
    "    I = I + [ind]\n",
    "    Xi = np.zeros((rows, len(I)))\n",
    "    l = 0\n",
    "    for idx in I:\n",
    "        for i in range(rows):\n",
    "            Xi[i, l] = X[i, idx]\n",
    "        l = l + 1\n",
    "    beta = Variable(len(I))\n",
    "    obj = Minimize(sum_squares(Xi*beta - y))\n",
    "    prob = Problem(obj)\n",
    "    result = prob.solve(verbose=False)\n",
    "    \n",
    "    # yres = y - Xi*beta.value\n",
    "    yres = y - np.dot(Xi, beta.value)\n",
    "Ism = []\n",
    "Ism = Ism + I\n",
    "\n",
    "beta_star1 = np.zeros((cols,1))\n",
    "l = 0\n",
    "for idx in I:\n",
    "    beta_star1[idx] = beta.value[l]\n",
    "    l = l + 1"
   ]
  },
  {
   "cell_type": "markdown",
   "metadata": {},
   "source": [
    "The sparsity pattern is:"
   ]
  },
  {
   "cell_type": "code",
   "execution_count": 35,
   "metadata": {},
   "outputs": [
    {
     "name": "stdout",
     "output_type": "stream",
     "text": [
      "[227, 220, 171, 375, 37]\n"
     ]
    }
   ],
   "source": [
    "print(Ism)"
   ]
  },
  {
   "cell_type": "markdown",
   "metadata": {},
   "source": [
    "For the medium matrix:"
   ]
  },
  {
   "cell_type": "code",
   "execution_count": 38,
   "metadata": {},
   "outputs": [
    {
     "name": "stdout",
     "output_type": "stream",
     "text": [
      "423 ms ± 49 ms per loop (mean ± std. dev. of 7 runs, 1 loop each)\n"
     ]
    }
   ],
   "source": [
    "%%timeit\n",
    "yres = y2\n",
    "y = y2\n",
    "rows, cols = X2.shape\n",
    "X = X2\n",
    "I = []\n",
    "\n",
    "ind = 0\n",
    "\n",
    "for k in range(5):\n",
    "    max_val = 0\n",
    "    for i in range(cols):\n",
    "        tempX = X[:,i].reshape(rows, 1)\n",
    "        tempval = np.transpose(yres).dot(tempX)\n",
    "        if tempval > max_val:\n",
    "            max_val = tempval\n",
    "            ind = i\n",
    "    I = I + [ind]\n",
    "    Xi = np.zeros((rows, len(I)))\n",
    "    l = 0\n",
    "    for idx in I:\n",
    "        for i in range(rows):\n",
    "            Xi[i, l] = X[i, idx]\n",
    "        l = l + 1\n",
    "    beta = Variable(len(I))\n",
    "    obj = Minimize(sum_squares(Xi*beta - y))\n",
    "    prob = Problem(obj)\n",
    "    result = prob.solve(verbose=False)\n",
    "    \n",
    "    # yres = y - Xi*beta.value\n",
    "    yres = y - np.dot(Xi, beta.value)\n",
    "I2 = I\n",
    "beta_star2 = np.zeros((cols,1))\n",
    "l = 0\n",
    "for idx in I:\n",
    "    beta_star2[idx] = beta.value[l]\n",
    "    l = l + 1"
   ]
  },
  {
   "cell_type": "code",
   "execution_count": 36,
   "metadata": {
    "collapsed": true
   },
   "outputs": [],
   "source": [
    "yres = y2\n",
    "y = y2\n",
    "rows, cols = X2.shape\n",
    "X = X2\n",
    "I = []\n",
    "\n",
    "ind = 0\n",
    "\n",
    "for k in range(5):\n",
    "    max_val = 0\n",
    "    for i in range(cols):\n",
    "        tempX = X[:,i].reshape(rows, 1)\n",
    "        tempval = np.transpose(yres).dot(tempX)\n",
    "        if tempval > max_val:\n",
    "            max_val = tempval\n",
    "            ind = i\n",
    "    I = I + [ind]\n",
    "    Xi = np.zeros((rows, len(I)))\n",
    "    l = 0\n",
    "    for idx in I:\n",
    "        for i in range(rows):\n",
    "            Xi[i, l] = X[i, idx]\n",
    "        l = l + 1\n",
    "    beta = Variable(len(I))\n",
    "    obj = Minimize(sum_squares(Xi*beta - y))\n",
    "    prob = Problem(obj)\n",
    "    result = prob.solve(verbose=False)\n",
    "    \n",
    "    # yres = y - Xi*beta.value\n",
    "    yres = y - np.dot(Xi, beta.value)\n",
    "I2 = I\n",
    "beta_star2 = np.zeros((cols,1))\n",
    "l = 0\n",
    "for idx in I:\n",
    "    beta_star2[idx] = beta.value[l]\n",
    "    l = l + 1"
   ]
  },
  {
   "cell_type": "markdown",
   "metadata": {},
   "source": [
    "The sparsity pattern is:"
   ]
  },
  {
   "cell_type": "code",
   "execution_count": 37,
   "metadata": {},
   "outputs": [
    {
     "name": "stdout",
     "output_type": "stream",
     "text": [
      "[353, 4193, 3308, 2828, 2958]\n"
     ]
    }
   ],
   "source": [
    "print(I2)"
   ]
  },
  {
   "cell_type": "markdown",
   "metadata": {},
   "source": [
    "Large Matrix:"
   ]
  },
  {
   "cell_type": "code",
   "execution_count": null,
   "metadata": {},
   "outputs": [],
   "source": [
    "%%timeit\n",
    "yres = y3\n",
    "y = y3\n",
    "rows, cols = X3.shape\n",
    "X = X3\n",
    "I = []\n",
    "\n",
    "ind = 0\n",
    "\n",
    "for k in range(5):\n",
    "    max_val = 0\n",
    "    for i in range(cols):\n",
    "        tempX = X[:,i].reshape(rows, 1)\n",
    "        tempval = np.transpose(yres).dot(tempX)\n",
    "        if tempval > max_val:\n",
    "            max_val = tempval\n",
    "            ind = i\n",
    "    I = I + [ind]\n",
    "    Xi = np.zeros((rows, len(I)))\n",
    "    l = 0\n",
    "    for idx in I:\n",
    "        for i in range(rows):\n",
    "            Xi[i, l] = X[i, idx]\n",
    "        l = l + 1\n",
    "    beta = Variable(len(I))\n",
    "    obj = Minimize(sum_squares(Xi*beta - y))\n",
    "    prob = Problem(obj)\n",
    "    result = prob.solve(verbose=False)\n",
    "    \n",
    "    # yres = y - Xi*beta.value\n",
    "    yres = y - np.dot(Xi, beta.value)\n",
    "\n",
    "beta_star3 = np.zeros((cols,1))\n",
    "l = 0\n",
    "for idx in I:\n",
    "    beta_star3[idx] = beta.value[l]\n",
    "    l = l + 1"
   ]
  },
  {
   "cell_type": "code",
   "execution_count": null,
   "metadata": {},
   "outputs": [],
   "source": [
    "yres = y3\n",
    "y = y3\n",
    "rows, cols = X3.shape\n",
    "X = X3\n",
    "I = []\n",
    "\n",
    "ind = 0\n",
    "\n",
    "for k in range(5):\n",
    "    max_val = 0\n",
    "    for i in range(cols):\n",
    "        tempX = X[:,i].reshape(rows, 1)\n",
    "        tempval = np.transpose(yres).dot(tempX)\n",
    "        if tempval > max_val:\n",
    "            max_val = tempval\n",
    "            ind = i\n",
    "    I = I + [ind]\n",
    "    Xi = np.zeros((rows, len(I)))\n",
    "    l = 0\n",
    "    for idx in I:\n",
    "        for i in range(rows):\n",
    "            Xi[i, l] = X[i, idx]\n",
    "        l = l + 1\n",
    "    beta = Variable(len(I))\n",
    "    obj = Minimize(sum_squares(Xi*beta - y))\n",
    "    prob = Problem(obj)\n",
    "    result = prob.solve(verbose=False)\n",
    "    \n",
    "    # yres = y - Xi*beta.value\n",
    "    yres = y - np.dot(Xi, beta.value)\n",
    "\n",
    "beta_star3 = np.zeros((cols,1))\n",
    "l = 0\n",
    "for idx in I:\n",
    "    beta_star3[idx] = beta.value[l]\n",
    "    l = l + 1"
   ]
  },
  {
   "cell_type": "markdown",
   "metadata": {},
   "source": [
    "The large matrix would not complete after 5 minutes."
   ]
  },
  {
   "cell_type": "markdown",
   "metadata": {},
   "source": [
    "Regression Error"
   ]
  },
  {
   "cell_type": "code",
   "execution_count": 41,
   "metadata": {},
   "outputs": [
    {
     "name": "stdout",
     "output_type": "stream",
     "text": [
      "Regression Error for Small Matrix =  2.09100888454\n",
      "Regression Error for Medium Matrix =  7.17539060951\n"
     ]
    }
   ],
   "source": [
    "RE1 = np.linalg.norm(X1.dot(beta_star1) - y1)\n",
    "RE2 = np.linalg.norm(X2.dot(beta_star2) - y2)\n",
    "print(\"Regression Error for Small Matrix = \", RE1)\n",
    "print(\"Regression Error for Medium Matrix = \", RE2)"
   ]
  },
  {
   "cell_type": "markdown",
   "metadata": {},
   "source": [
    "Testing Error"
   ]
  },
  {
   "cell_type": "code",
   "execution_count": 42,
   "metadata": {},
   "outputs": [
    {
     "name": "stdout",
     "output_type": "stream",
     "text": [
      "Testing Error for Small Matrix =  3.39566861023\n",
      "Testing Error for Medium Matrix =  3.36753159451\n"
     ]
    }
   ],
   "source": [
    "TE1 = np.linalg.norm(Xtest1.dot(beta_star1) - ytest1)\n",
    "TE2 = np.linalg.norm(Xtest2.dot(beta_star2) - ytest2)\n",
    "\n",
    "print(\"Testing Error for Small Matrix = \", TE1)\n",
    "print(\"Testing Error for Medium Matrix = \", TE2)"
   ]
  }
 ],
 "metadata": {
  "kernelspec": {
   "display_name": "Python 3",
   "language": "python",
   "name": "python3"
  },
  "language_info": {
   "codemirror_mode": {
    "name": "ipython",
    "version": 3
   },
   "file_extension": ".py",
   "mimetype": "text/x-python",
   "name": "python",
   "nbconvert_exporter": "python",
   "pygments_lexer": "ipython3",
   "version": "3.6.2"
  }
 },
 "nbformat": 4,
 "nbformat_minor": 2
}
