{
 "cells": [
  {
   "cell_type": "code",
   "execution_count": 4,
   "metadata": {
    "collapsed": true
   },
   "outputs": [],
   "source": [
    "import cvxpy as cvx\n",
    "import numpy as np"
   ]
  },
  {
   "cell_type": "markdown",
   "metadata": {},
   "source": [
    "### Setup Constants"
   ]
  },
  {
   "cell_type": "code",
   "execution_count": 5,
   "metadata": {
    "collapsed": true
   },
   "outputs": [],
   "source": [
    "l = 0.98\n",
    "g = 9.8\n",
    "m = 0.825\n",
    "M = 8.085\n",
    "\n",
    "tol = 1e-8\n",
    "i = 0\n",
    "MAX_ITER = 25"
   ]
  },
  {
   "cell_type": "markdown",
   "metadata": {},
   "source": [
    "$\\alpha$ for bisection"
   ]
  },
  {
   "cell_type": "code",
   "execution_count": 6,
   "metadata": {
    "collapsed": true
   },
   "outputs": [],
   "source": [
    "alpha_up = 800\n",
    "alpha_lo = 0"
   ]
  },
  {
   "cell_type": "markdown",
   "metadata": {},
   "source": [
    "### Dynamics"
   ]
  },
  {
   "cell_type": "code",
   "execution_count": 7,
   "metadata": {},
   "outputs": [],
   "source": [
    "A = np.array([[0, 1, 0, 0], [0, 0, -(m*g/M), 0], [0, 0, 0, 1], [0, 0, g/l, 0]])\n",
    "B = np.array([[0], \n",
    "              [1/M],\n",
    "              [0],\n",
    "              [-1/(M*l)]])\n",
    "I = np.eye(4)"
   ]
  },
  {
   "cell_type": "code",
   "execution_count": 8,
   "metadata": {
    "collapsed": true
   },
   "outputs": [],
   "source": [
    "Q = cvx.Semidef(4)\n",
    "Z = cvx.Variable(1,4)\n",
    "obj = cvx.Minimize(0)"
   ]
  },
  {
   "cell_type": "markdown",
   "metadata": {},
   "source": [
    "### Change of Variables for the Lyapunov Function\n",
    "A change of variables is required to allow for a $K$ to be found.\n",
    "$$ A_{cl}^TP + PA_{cl} + 2\\alpha P < 0 $$\n",
    "$$ (A + BK)^TP + P(A + BK) + 2\\alpha P < 0 $$\n",
    "$$ A^TP + K^TB^TP + PA + PBK + 2\\alpha P < 0 $$\n",
    "\n",
    "However, it is impossible to find a K from the above equation and so pre- and post-multiply by $P^{-1}$. \n",
    "$$ P^{-1}A^T + P^{-1}K^TB^T + AP^{-1} + BKP^{-1} + 2\\alpha P^{-1} < 0 $$\n",
    "\n",
    "And set $Q = P^{-1}$ and $Z = KP^{-1}$. Which becomes:\n",
    "$$ QA^T + Z^TB^T + AQ + BZ + 2\\alpha Q < 0 $$"
   ]
  },
  {
   "cell_type": "code",
   "execution_count": null,
   "metadata": {},
   "outputs": [],
   "source": [
    "while(abs(alpha_up - alpha_lo) > tol and i < MAX_ITER):\n",
    "    i += 1\n",
    "    alpha = 0.5*(alpha_up + alpha_lo)\n",
    "    const = [Q*A.T + Z.T*B.T + A*Q + B*Z + 2*alpha*Q < -I, Q > I]\n",
    "    \n",
    "    prob = cvx.Problem(obj, const)\n",
    "    prob.solve()\n",
    "    \n",
    "    if prob.status == \"infeasible\":\n",
    "        alpha_up = alpha\n",
    "    else:\n",
    "        alpha_lo = alpha"
   ]
  },
  {
   "cell_type": "code",
   "execution_count": 9,
   "metadata": {
    "collapsed": true
   },
   "outputs": [],
   "source": [
    "alpha = 0.\n",
    "const = [Q*A.T + Z.T*B.T + A*Q + B*Z + 2*alpha*Q < -I, Q > I]"
   ]
  },
  {
   "cell_type": "code",
   "execution_count": 10,
   "metadata": {},
   "outputs": [
    {
     "name": "stdout",
     "output_type": "stream",
     "text": [
      "     pcost       dcost       gap    pres   dres   k/t\n",
      " 0:  0.0000e+00  8.0000e+00  7e+01  4e+00  3e+01  1e+00\n",
      " 1:  0.0000e+00  4.2479e+02  2e+05  1e+02  1e+03  2e+02\n",
      " 2:  0.0000e+00  1.0011e+02  2e+03  6e+00  5e+01  9e+01\n",
      " 3:  0.0000e+00  2.5309e+03  5e+04  6e+00  5e+01  3e+03\n",
      " 4:  0.0000e+00  3.6109e+04  9e+05  7e+00  6e+01  4e+04\n",
      " 5:  0.0000e+00  1.4799e+06  5e+07  1e+01  8e+01  1e+06\n",
      " 6:  0.0000e+00  5.9369e+07  3e+09  1e+01  1e+02  6e+07\n",
      " 7:  0.0000e+00  4.5049e+09  2e+11  1e+01  1e+02  5e+09\n",
      "Certificate of primal infeasibility found.\n"
     ]
    },
    {
     "data": {
      "text/plain": [
       "inf"
      ]
     },
     "execution_count": 10,
     "metadata": {},
     "output_type": "execute_result"
    }
   ],
   "source": [
    "prob = cvx.Problem(obj, const)\n",
    "prob.solve(verbose=True)"
   ]
  },
  {
   "cell_type": "code",
   "execution_count": null,
   "metadata": {
    "collapsed": true
   },
   "outputs": [],
   "source": []
  }
 ],
 "metadata": {
  "kernelspec": {
   "display_name": "Python 3",
   "language": "python",
   "name": "python3"
  },
  "language_info": {
   "codemirror_mode": {
    "name": "ipython",
    "version": 3
   },
   "file_extension": ".py",
   "mimetype": "text/x-python",
   "name": "python",
   "nbconvert_exporter": "python",
   "pygments_lexer": "ipython3",
   "version": "3.6.3"
  }
 },
 "nbformat": 4,
 "nbformat_minor": 2
}
