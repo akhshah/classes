{
 "cells": [
  {
   "cell_type": "code",
   "execution_count": 1,
   "metadata": {},
   "outputs": [],
   "source": [
    "import cvxpy as cvx\n",
    "import numpy as np"
   ]
  },
  {
   "cell_type": "markdown",
   "metadata": {},
   "source": [
    "Setup CVX Variables"
   ]
  },
  {
   "cell_type": "code",
   "execution_count": 2,
   "metadata": {},
   "outputs": [],
   "source": [
    "P = cvx.Semidef(2)\n",
    "obj = cvx.Minimize(0)"
   ]
  },
  {
   "cell_type": "markdown",
   "metadata": {},
   "source": [
    "Setup Initial Conditions"
   ]
  },
  {
   "cell_type": "code",
   "execution_count": 3,
   "metadata": {},
   "outputs": [],
   "source": [
    "A = np.array([[-1, 0], [1, -2]])\n",
    "I = np.eye(2)"
   ]
  },
  {
   "cell_type": "code",
   "execution_count": 4,
   "metadata": {},
   "outputs": [],
   "source": [
    "alpha_up = 800\n",
    "alpha_lo = 0\n",
    "tol = 1e-8\n",
    "i = 0\n",
    "MAX_ITER = 25"
   ]
  },
  {
   "cell_type": "markdown",
   "metadata": {},
   "source": [
    "Bisection to find optimal $\\alpha$"
   ]
  },
  {
   "cell_type": "code",
   "execution_count": 5,
   "metadata": {},
   "outputs": [
    {
     "name": "stdout",
     "output_type": "stream",
     "text": [
      "0.9999990463256836 < alpha < 1.0000228881835938 after 25 iterations.\n"
     ]
    }
   ],
   "source": [
    "while(abs(alpha_up - alpha_lo) > tol and i < MAX_ITER):\n",
    "    i += 1\n",
    "    alpha = 0.5*(alpha_up + alpha_lo);\n",
    "    const = [A.T*P + P*A + 2*alpha*P < -I, P > I]\n",
    "    \n",
    "    prob = cvx.Problem(obj, const)\n",
    "    prob.solve()\n",
    "    \n",
    "    if prob.status == \"infeasible\":\n",
    "        alpha_up = alpha\n",
    "    else:\n",
    "        alpha_lo = alpha\n",
    "\n",
    "print(alpha_lo, \"< alpha <\", alpha_up, \"after\", i, \"iterations.\")"
   ]
  }
 ],
 "metadata": {
  "kernelspec": {
   "display_name": "Python 3",
   "language": "python",
   "name": "python3"
  },
  "language_info": {
   "codemirror_mode": {
    "name": "ipython",
    "version": 3
   },
   "file_extension": ".py",
   "mimetype": "text/x-python",
   "name": "python",
   "nbconvert_exporter": "python",
   "pygments_lexer": "ipython3",
   "version": "3.6.4"
  }
 },
 "nbformat": 4,
 "nbformat_minor": 2
}
